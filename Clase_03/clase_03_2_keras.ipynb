{
 "cells": [
  {
   "cell_type": "markdown",
   "metadata": {
    "id": "5oX6K_-JCtiL"
   },
   "source": [
    "**Modulo 3: TensorFlow y Keras para Neural Networks**\n",
    "* Instructor: [Juan Maniglia](https://juanmaniglia.github.io)"
   ]
  },
  {
   "cell_type": "markdown",
   "metadata": {
    "id": "pOY9MHVrCtiM"
   },
   "source": [
    "# Parte 3.2: Introducción a Tensorflow y Keras\n",
    "\n",
    "TensorFlow es una biblioteca de software de código abierto para Machine_Learning en varios tipos de tareas de percepción y comprensión del lenguaje. Actualmente, diferentes equipos lo utilizan tanto para la investigación como para la producción en muchos productos comerciales de Google, como reconocimiento de voz, Gmail, Google Photos y búsqueda, muchos de los cuales habían utilizado anteriormente su predecesor DistBelief. TensorFlow fue desarrollado originalmente por el equipo de Google Brain para fines de investigación y producción de Google y luego se lanzó bajo la licencia de código abierto Apache 2.0 el 9 de noviembre de 2015.\n",
    "\n",
    "* [TensorFlow Homepage](https://www.tensorflow.org/)\n",
    "* [TensorFlow GitHib](https://github.com/tensorflow/tensorflow)\n",
    "* [TensorFlow Google Groups Support](https://groups.google.com/forum/#!forum/tensorflow)\n",
    "* [TensorFlow Google Groups Developer Discussion](https://groups.google.com/a/tensorflow.org/forum/#!forum/discuss)\n",
    "* [TensorFlow FAQ](https://www.tensorflow.org/resources/faq)\n"
   ]
  },
  {
   "cell_type": "markdown",
   "metadata": {
    "id": "1Zg-zNx0CtiN"
   },
   "source": [
    "## ¿Por qué TensorFlow?\n",
    "\n",
    "* Cuenta con el apoyo de Google\n",
    "* Funciona bien en Windows, Linux y Mac\n",
    "* Excelente soporte de GPU\n",
    "* Python es un lenguaje de programación fácil de aprender\n",
    "* Python es extremadamente popular en la comunidad de ciencia de datos\n",
    "\n",
    "## Deep Learning Tools\n",
    "TensorFlow no es el único juego de la ciudad. El mayor competidor de TensorFlow/Keras es PyTorch. A continuación se enumeran algunos de los kits de herramientas de aprendizaje profundo que se admiten activamente:\n",
    "\n",
    "* **[TensorFlow](https://www.tensorflow.org/)** - API de aprendizaje profundo de Google.\n",
    "* **[Keras](https://keras.io/)** - También de Google, framework de mayor nivel que permite el uso de TensorFlow, MXNet y Theano indistintamente.\n",
    "* **[PyTorch](https://pytorch.org/)** - PyTorch es una biblioteca de aprendizaje automático de código abierto basada en la biblioteca Torch, que se utiliza para aplicaciones como la visión artificial y el procesamiento del lenguaje natural. Está desarrollado principalmente por el laboratorio de investigación de IA de Facebook. \n",
    "\n",
    "Otros deep learning tools:\n",
    "\n",
    "* **[MXNet](https://mxnet.incubator.apache.org/)** API de aprendizaje profundo de la fundación Apache. Se puede utilizar a través de Keras.\n",
    "* **[Torch](http://torch.ch/)** es utilizado por Google DeepMind, Facebook AI Research Group, IBM, Yandex y el Idiap Research Institute. Se ha utilizado para algunos de los proyectos de aprendizaje profundo más avanzados del mundo.\n",
    "* **[PaddlePaddle](https://github.com/baidu/Paddle)** - [Baidu](http://www.baidu.com/)'s deep learning API.\n",
    "* **[Deeplearning4J](http://deeplearning4j.org/)** - Basado en Java. Soporta todas las plataformas principales. ¡Soporte de GPU en Java!\n",
    "* **[Computational Network Toolkit (CNTK)](https://github.com/Microsoft/CNTK)** -Microsoft. Soporte para Windows/Linux, solo línea de comando. Enlaces para predicciones para C#/Python. Soporte de GPU\n",
    "* **[H2O](http://www.h2o.ai/)** - Basado en Java. Soporta todas las plataformas principales. Soporte limitado para visión artificial. Sin soporte para GPU.\n",
    "\n",
    "## Uso TensorFlow Directamente\n",
    "\n",
    "La mayor parte del tiempo en el curso, nos comunicaremos con TensorFlow usando Keras, que le permite especificar el número de capas ocultas y crear la red neuronal. TensorFlow es una API matemática de bajo nivel, similar a [Numpy](http://www.numpy.org/).  Sin embargo, a diferencia de Numpy, TensorFlow está diseñado para el aprendizaje profundo. TensorFlow compila estos gráficos de cómputo en gráficos altamente eficientes C++/[CUDA](https://en.wikipedia.org/wiki/CUDA) code.\n",
    "\n",
    "### TensorFlow Ejemplos de álgebra lineal\n",
    "\n",
    "TensorFlow es una biblioteca para álgebra lineal. Keras es una abstracción de alto nivel para las redes neuronales que construyes sobre TensorFlow. En esta sección, demostraré algo de álgebra lineal básica que emplea TensorFlow directamente y no utiliza Keras. Primero, veremos cómo multiplicar una matriz de filas y columnas."
   ]
  },
  {
   "cell_type": "code",
   "execution_count": 1,
   "metadata": {
    "colab": {
     "base_uri": "https://localhost:8080/"
    },
    "id": "bkh9pHqPCtiO",
    "outputId": "c2b05474-0644-4c5c-c7fc-fb94e1e6a69d"
   },
   "outputs": [
    {
     "name": "stdout",
     "output_type": "stream",
     "text": [
      "tf.Tensor([[12.]], shape=(1, 1), dtype=float32)\n",
      "12.0\n"
     ]
    }
   ],
   "source": [
    "import tensorflow as tf\n",
    "\n",
    "# Cree una operación constante que produzca una matriz de 1x2. la operación es\n",
    "# agregado como un nodo al gráfico predeterminado.\n",
    "#\n",
    "# El valor devuelto por el constructor representa la salida\n",
    "# de la constante op.\n",
    "matrix1 = tf.constant([[3., 3.]])\n",
    "\n",
    "# Cree otra constante que produzca una matriz de 2x1.\n",
    "matrix2 = tf.constant([[2.],[2.]])\n",
    "\n",
    "# Cree una operación de Matmul que tome 'matrix1' y 'matrix2' como entradas.\n",
    "# El valor devuelto, 'producto', representa el resultado de la matriz\n",
    "# multiplicación.\n",
    "producto = tf.matmul(matrix1, matrix2)\n",
    "\n",
    "print(producto)\n",
    "print(float(producto))"
   ]
  },
  {
   "cell_type": "markdown",
   "metadata": {
    "id": "pMrXqwskCtiP"
   },
   "source": [
    "Este ejemplo multiplicó dos tensores constantes de TensorFlow. A continuación, veremos cómo restar una constante de una variable."
   ]
  },
  {
   "cell_type": "code",
   "execution_count": 2,
   "metadata": {
    "colab": {
     "base_uri": "https://localhost:8080/"
    },
    "id": "qKyFCaoTCtiP",
    "outputId": "3c75a8cf-8d1c-48df-fb71-f603053cf616"
   },
   "outputs": [
    {
     "name": "stdout",
     "output_type": "stream",
     "text": [
      "tf.Tensor([-2. -1.], shape=(2,), dtype=float32)\n",
      "[-2. -1.]\n"
     ]
    }
   ],
   "source": [
    "import tensorflow as tf\n",
    "\n",
    "x = tf.Variable([1.0, 2.0])\n",
    "a = tf.constant([3.0, 3.0])\n",
    "\n",
    "# Agregue una operación para restar 'a' de 'x'. Ejecútalo e imprime el resultado.\n",
    "sub = tf.subtract(x, a)\n",
    "print(sub)\n",
    "print(sub.numpy())\n",
    "# ==> [-2. -1.]"
   ]
  },
  {
   "cell_type": "markdown",
   "metadata": {
    "id": "epQ9LrM6CtiP"
   },
   "source": [
    "Por supuesto, las variables solo son útiles si sus valores se pueden cambiar. El programa puede lograr este cambio de valor llamando a la función de asignación."
   ]
  },
  {
   "cell_type": "code",
   "execution_count": 3,
   "metadata": {
    "colab": {
     "base_uri": "https://localhost:8080/"
    },
    "id": "vtnW5aU-CtiP",
    "outputId": "77d3ae14-dfac-4877-dd7f-d30ae9c9751d"
   },
   "outputs": [
    {
     "data": {
      "text/plain": [
       "<tf.Variable 'UnreadVariable' shape=(2,) dtype=float32, numpy=array([4., 6.], dtype=float32)>"
      ]
     },
     "execution_count": 3,
     "metadata": {},
     "output_type": "execute_result"
    }
   ],
   "source": [
    "x.assign([4.0, 6.0])"
   ]
  },
  {
   "cell_type": "markdown",
   "metadata": {
    "id": "zHwJP8MjCtiQ"
   },
   "source": [
    "\n",
    "El programa ahora puede realizar la resta con este nuevo valor."
   ]
  },
  {
   "cell_type": "code",
   "execution_count": 4,
   "metadata": {
    "colab": {
     "base_uri": "https://localhost:8080/"
    },
    "id": "0e26Fe-GCtiQ",
    "outputId": "979cf4e5-4d6d-45e2-c7a7-c12e6b169baf"
   },
   "outputs": [
    {
     "name": "stdout",
     "output_type": "stream",
     "text": [
      "tf.Tensor([1. 3.], shape=(2,), dtype=float32)\n",
      "[1. 3.]\n"
     ]
    }
   ],
   "source": [
    "sub = tf.subtract(x, a)\n",
    "print(sub)\n",
    "print(sub.numpy())"
   ]
  },
  {
   "cell_type": "markdown",
   "metadata": {
    "id": "Rq61YFBYCtiQ"
   },
   "source": [
    "\n",
    "En la siguiente sección, veremos un ejemplo de TensorFlow que no tiene nada que ver con las redes neuronales."
   ]
  },
  {
   "cell_type": "markdown",
   "metadata": {
    "id": "iMVIS9pBCtiQ"
   },
   "source": [
    "### TensorFlow Mandelbrot Set Ejemplo\n",
    "\n",
    "A continuación, examinamos otro ejemplo en el que usamos TensorFlow directamente. Para demostrar que TensorFlow es matemático y no solo proporciona redes neuronales, también lo usaremos primero para una tarea de representación que no sea de aprendizaje automático."
   ]
  },
  {
   "cell_type": "code",
   "execution_count": 6,
   "metadata": {
    "colab": {
     "base_uri": "https://localhost:8080/",
     "height": 537
    },
    "id": "v4ll1OLwCtiQ",
    "outputId": "e0f9479e-7bd7-4c4f-f8dc-b658a72ee747"
   },
   "outputs": [
    {
     "data": {
      "image/jpeg": "[encoded data removed]",
      "text/plain": [
       "<IPython.core.display.Image object>"
      ]
     },
     "metadata": {},
     "output_type": "display_data"
    }
   ],
   "source": [
    "# Importar librarias para la simulación\n",
    "import tensorflow as tf\n",
    "import numpy as np\n",
    "\n",
    "# Importar para visualización\n",
    "import PIL.Image\n",
    "from io import BytesIO\n",
    "from IPython.display import Image, display\n",
    "\n",
    "def DisplayFractal(a, fmt='jpeg'):\n",
    "  \"\"\"Muestra una matriz de recuentos de iteraciones como un\n",
    "     imagen colorida de un fractal.\"\"\"\n",
    "  a_cyclic = (6.28*a/20.0).reshape(list(a.shape)+[1])\n",
    "  img = np.concatenate([10+20*np.cos(a_cyclic),\n",
    "                        30+50*np.sin(a_cyclic),\n",
    "                        155-80*np.cos(a_cyclic)], 2)\n",
    "  img[a==a.max()] = 0\n",
    "  a = img\n",
    "  a = np.uint8(np.clip(a, 0, 255))\n",
    "  f = BytesIO()\n",
    "  PIL.Image.fromarray(a).save(f, fmt)\n",
    "  display(Image(data=f.getvalue()))\n",
    "\n",
    "# Use NumPy para crear una matriz 2D de números complejos\n",
    "\n",
    "Y, X = np.mgrid[-1.3:1.3:0.005, -2:1:0.005]\n",
    "Z = X+1j*Y\n",
    "\n",
    "xs = tf.constant(Z.astype(np.complex64))\n",
    "zs = tf.Variable(xs)\n",
    "ns = tf.Variable(tf.zeros_like(xs, tf.float32))\n",
    "\n",
    "\n",
    "\n",
    "for i in range(200):\n",
    "    # CCalcular los nuevos valores de z: z^2 + x\n",
    "    zs_ = zs*zs + xs\n",
    "\n",
    "    # ¿Hemos divergido con este nuevo valor?\n",
    "    not_diverged = tf.abs(zs_) < 4\n",
    "\n",
    "    zs.assign(zs_),\n",
    "    ns.assign_add(tf.cast(not_diverged, tf.float32))\n",
    "    \n",
    "DisplayFractal(ns.numpy())"
   ]
  },
  {
   "cell_type": "markdown",
   "metadata": {
    "id": "AtvjPq7HCtiQ"
   },
   "source": [
    "El renderizado de Mandlebrot es simple e infinitamente complejo al mismo tiempo. Esta vista muestra todo el universo de Mandlebrot al mismo tiempo, ya que está completamente alejado. Sin embargo, si hace zoom en cualquier parte del gráfico que no sea negra, encontrará una complejidad oculta infinita."
   ]
  },
  {
   "cell_type": "markdown",
   "metadata": {
    "id": "ZeWypKgGCtiR"
   },
   "source": [
    "### Introducción a Keras\n",
    "\n",
    "[Keras](https://keras.io/) es una capa superior Tensorflow que facilita mucho la creación de redes neuronales. En lugar de definir los gráficos, como ve arriba, configura las capas individuales de la red con una API de mucho más alto nivel. A menos que esté realizando una investigación sobre estructuras completamente nuevas de redes neuronales profundas, es poco probable que necesite programar TensorFlow directamente.  \n",
    "\n",
    "**Para esta clase, usaremos TensorFlow a través de Keras, en lugar de TensorFlow directo.**\n",
    "\n",
    "### Simple regresión con TensorFlow: MPG\n",
    "\n",
    "Este ejemplo muestra cómo codificar el conjunto de datos MPG para la regresión. Este conjunto de datos es un poco más complicado que Iris, porque:\n",
    "\n",
    "* La entrada tiene tanto numérico como categórico\n",
    "* La entrada tiene valores faltantes\n",
    "\n",
    "Este ejemplo utiliza funciones definidas anteriormente en este notebook, las \"funciones_de_ayuda\". Estas funciones le permiten construir el vector de características para una red neuronal. Considera lo siguiente:\n",
    "\n",
    "* Predictores/Entradas\n",
    "    * Rellene las entradas faltantes con la mediana de esa columna. Utilice **missing_median**.\n",
    "    * Codifique valores textuales/categóricos con **encode_text_dummy**.\n",
    "    * Codifique valores numéricos con **encode_numeric_zscore**.\n",
    "* Producción\n",
    "    * Descartar filas con salidas faltantes.\n",
    "    * Codificar valores textuales/categóricos con **encode_text_index**.\n",
    "    * No codificar valores numéricos de salida.\n",
    "* Producir vectores de características finales (x) y salida esperada (y) con **to_xy**."
   ]
  },
  {
   "cell_type": "code",
   "execution_count": 7,
   "metadata": {
    "colab": {
     "base_uri": "https://localhost:8080/"
    },
    "id": "bmb3cFrUCtiR",
    "outputId": "6aee69f2-aa06-411d-a7be-4362e4e35f7b"
   },
   "outputs": [
    {
     "name": "stdout",
     "output_type": "stream",
     "text": [
      "Epoch 1/100\n",
      "13/13 - 0s - loss: 222.1605 - 338ms/epoch - 26ms/step\n",
      "Epoch 2/100\n",
      "13/13 - 0s - loss: 180.5455 - 35ms/epoch - 3ms/step\n",
      "Epoch 3/100\n",
      "13/13 - 0s - loss: 153.6098 - 37ms/epoch - 3ms/step\n",
      "Epoch 4/100\n",
      "13/13 - 0s - loss: 130.1387 - 27ms/epoch - 2ms/step\n",
      "Epoch 5/100\n",
      "13/13 - 0s - loss: 119.5372 - 28ms/epoch - 2ms/step\n",
      "Epoch 6/100\n",
      "13/13 - 0s - loss: 116.7377 - 27ms/epoch - 2ms/step\n",
      "Epoch 7/100\n",
      "13/13 - 0s - loss: 110.6803 - 28ms/epoch - 2ms/step\n",
      "Epoch 8/100\n",
      "13/13 - 0s - loss: 89.0653 - 27ms/epoch - 2ms/step\n",
      "Epoch 9/100\n",
      "13/13 - 0s - loss: 91.8128 - 27ms/epoch - 2ms/step\n",
      "Epoch 10/100\n",
      "13/13 - 0s - loss: 80.1005 - 27ms/epoch - 2ms/step\n",
      "Epoch 11/100\n",
      "13/13 - 0s - loss: 76.2340 - 27ms/epoch - 2ms/step\n",
      "Epoch 12/100\n",
      "13/13 - 0s - loss: 75.6091 - 29ms/epoch - 2ms/step\n",
      "Epoch 13/100\n",
      "13/13 - 0s - loss: 69.3065 - 28ms/epoch - 2ms/step\n",
      "Epoch 14/100\n",
      "13/13 - 0s - loss: 71.4853 - 29ms/epoch - 2ms/step\n",
      "Epoch 15/100\n",
      "13/13 - 0s - loss: 66.0467 - 27ms/epoch - 2ms/step\n",
      "Epoch 16/100\n",
      "13/13 - 0s - loss: 62.6465 - 27ms/epoch - 2ms/step\n",
      "Epoch 17/100\n",
      "13/13 - 0s - loss: 61.1569 - 29ms/epoch - 2ms/step\n",
      "Epoch 18/100\n",
      "13/13 - 0s - loss: 63.1535 - 29ms/epoch - 2ms/step\n",
      "Epoch 19/100\n",
      "13/13 - 0s - loss: 56.4575 - 27ms/epoch - 2ms/step\n",
      "Epoch 20/100\n",
      "13/13 - 0s - loss: 55.2412 - 28ms/epoch - 2ms/step\n",
      "Epoch 21/100\n",
      "13/13 - 0s - loss: 67.2348 - 29ms/epoch - 2ms/step\n",
      "Epoch 22/100\n",
      "13/13 - 0s - loss: 55.2257 - 28ms/epoch - 2ms/step\n",
      "Epoch 23/100\n",
      "13/13 - 0s - loss: 51.3268 - 25ms/epoch - 2ms/step\n",
      "Epoch 24/100\n",
      "13/13 - 0s - loss: 51.0435 - 26ms/epoch - 2ms/step\n",
      "Epoch 25/100\n",
      "13/13 - 0s - loss: 48.3385 - 26ms/epoch - 2ms/step\n",
      "Epoch 26/100\n",
      "13/13 - 0s - loss: 52.1902 - 27ms/epoch - 2ms/step\n",
      "Epoch 27/100\n",
      "13/13 - 0s - loss: 47.4257 - 28ms/epoch - 2ms/step\n",
      "Epoch 28/100\n",
      "13/13 - 0s - loss: 42.8842 - 26ms/epoch - 2ms/step\n",
      "Epoch 29/100\n",
      "13/13 - 0s - loss: 45.1698 - 26ms/epoch - 2ms/step\n",
      "Epoch 30/100\n",
      "13/13 - 0s - loss: 41.4481 - 29ms/epoch - 2ms/step\n",
      "Epoch 31/100\n",
      "13/13 - 0s - loss: 43.3432 - 27ms/epoch - 2ms/step\n",
      "Epoch 32/100\n",
      "13/13 - 0s - loss: 42.4410 - 27ms/epoch - 2ms/step\n",
      "Epoch 33/100\n",
      "13/13 - 0s - loss: 39.0153 - 27ms/epoch - 2ms/step\n",
      "Epoch 34/100\n",
      "13/13 - 0s - loss: 35.8444 - 29ms/epoch - 2ms/step\n",
      "Epoch 35/100\n",
      "13/13 - 0s - loss: 35.7594 - 28ms/epoch - 2ms/step\n",
      "Epoch 36/100\n",
      "13/13 - 0s - loss: 39.0856 - 25ms/epoch - 2ms/step\n",
      "Epoch 37/100\n",
      "13/13 - 0s - loss: 32.7899 - 27ms/epoch - 2ms/step\n",
      "Epoch 38/100\n",
      "13/13 - 0s - loss: 32.7375 - 27ms/epoch - 2ms/step\n",
      "Epoch 39/100\n",
      "13/13 - 0s - loss: 31.5079 - 26ms/epoch - 2ms/step\n",
      "Epoch 40/100\n",
      "13/13 - 0s - loss: 31.8339 - 27ms/epoch - 2ms/step\n",
      "Epoch 41/100\n",
      "13/13 - 0s - loss: 33.0880 - 27ms/epoch - 2ms/step\n",
      "Epoch 42/100\n",
      "13/13 - 0s - loss: 32.7778 - 27ms/epoch - 2ms/step\n",
      "Epoch 43/100\n",
      "13/13 - 0s - loss: 31.7688 - 27ms/epoch - 2ms/step\n",
      "Epoch 44/100\n",
      "13/13 - 0s - loss: 29.4838 - 26ms/epoch - 2ms/step\n",
      "Epoch 45/100\n",
      "13/13 - 0s - loss: 27.2980 - 26ms/epoch - 2ms/step\n",
      "Epoch 46/100\n",
      "13/13 - 0s - loss: 30.9054 - 26ms/epoch - 2ms/step\n",
      "Epoch 47/100\n",
      "13/13 - 0s - loss: 32.1735 - 26ms/epoch - 2ms/step\n",
      "Epoch 48/100\n",
      "13/13 - 0s - loss: 29.2739 - 28ms/epoch - 2ms/step\n",
      "Epoch 49/100\n",
      "13/13 - 0s - loss: 30.3687 - 27ms/epoch - 2ms/step\n",
      "Epoch 50/100\n",
      "13/13 - 0s - loss: 29.4328 - 29ms/epoch - 2ms/step\n",
      "Epoch 51/100\n",
      "13/13 - 0s - loss: 29.0355 - 28ms/epoch - 2ms/step\n",
      "Epoch 52/100\n",
      "13/13 - 0s - loss: 29.5401 - 26ms/epoch - 2ms/step\n",
      "Epoch 53/100\n",
      "13/13 - 0s - loss: 29.3918 - 26ms/epoch - 2ms/step\n",
      "Epoch 54/100\n",
      "13/13 - 0s - loss: 27.3136 - 27ms/epoch - 2ms/step\n",
      "Epoch 55/100\n",
      "13/13 - 0s - loss: 24.2287 - 25ms/epoch - 2ms/step\n",
      "Epoch 56/100\n",
      "13/13 - 0s - loss: 23.4046 - 28ms/epoch - 2ms/step\n",
      "Epoch 57/100\n",
      "13/13 - 0s - loss: 20.5952 - 28ms/epoch - 2ms/step\n",
      "Epoch 58/100\n",
      "13/13 - 0s - loss: 24.3264 - 27ms/epoch - 2ms/step\n",
      "Epoch 59/100\n",
      "13/13 - 0s - loss: 22.3732 - 27ms/epoch - 2ms/step\n",
      "Epoch 60/100\n",
      "13/13 - 0s - loss: 22.1820 - 26ms/epoch - 2ms/step\n",
      "Epoch 61/100\n",
      "13/13 - 0s - loss: 19.5460 - 27ms/epoch - 2ms/step\n",
      "Epoch 62/100\n",
      "13/13 - 0s - loss: 19.4362 - 27ms/epoch - 2ms/step\n",
      "Epoch 63/100\n",
      "13/13 - 0s - loss: 20.1538 - 26ms/epoch - 2ms/step\n",
      "Epoch 64/100\n",
      "13/13 - 0s - loss: 19.7124 - 27ms/epoch - 2ms/step\n",
      "Epoch 65/100\n",
      "13/13 - 0s - loss: 19.6789 - 27ms/epoch - 2ms/step\n",
      "Epoch 66/100\n",
      "13/13 - 0s - loss: 19.1720 - 27ms/epoch - 2ms/step\n",
      "Epoch 67/100\n",
      "13/13 - 0s - loss: 17.7774 - 27ms/epoch - 2ms/step\n",
      "Epoch 68/100\n",
      "13/13 - 0s - loss: 19.7083 - 25ms/epoch - 2ms/step\n",
      "Epoch 69/100\n",
      "13/13 - 0s - loss: 17.9111 - 27ms/epoch - 2ms/step\n",
      "Epoch 70/100\n",
      "13/13 - 0s - loss: 17.8039 - 28ms/epoch - 2ms/step\n",
      "Epoch 71/100\n",
      "13/13 - 0s - loss: 18.8381 - 26ms/epoch - 2ms/step\n",
      "Epoch 72/100\n",
      "13/13 - 0s - loss: 22.3139 - 26ms/epoch - 2ms/step\n",
      "Epoch 73/100\n",
      "13/13 - 0s - loss: 21.1366 - 26ms/epoch - 2ms/step\n",
      "Epoch 74/100\n",
      "13/13 - 0s - loss: 18.2714 - 26ms/epoch - 2ms/step\n",
      "Epoch 75/100\n",
      "13/13 - 0s - loss: 19.5166 - 29ms/epoch - 2ms/step\n",
      "Epoch 76/100\n",
      "13/13 - 0s - loss: 15.6772 - 27ms/epoch - 2ms/step\n",
      "Epoch 77/100\n",
      "13/13 - 0s - loss: 15.3693 - 26ms/epoch - 2ms/step\n",
      "Epoch 78/100\n",
      "13/13 - 0s - loss: 15.8950 - 27ms/epoch - 2ms/step\n",
      "Epoch 79/100\n",
      "13/13 - 0s - loss: 15.9585 - 26ms/epoch - 2ms/step\n",
      "Epoch 80/100\n",
      "13/13 - 0s - loss: 15.4450 - 27ms/epoch - 2ms/step\n",
      "Epoch 81/100\n",
      "13/13 - 0s - loss: 15.9803 - 26ms/epoch - 2ms/step\n",
      "Epoch 82/100\n",
      "13/13 - 0s - loss: 14.8226 - 28ms/epoch - 2ms/step\n",
      "Epoch 83/100\n",
      "13/13 - 0s - loss: 15.6912 - 31ms/epoch - 2ms/step\n",
      "Epoch 84/100\n",
      "13/13 - 0s - loss: 15.1614 - 30ms/epoch - 2ms/step\n",
      "Epoch 85/100\n",
      "13/13 - 0s - loss: 23.2221 - 27ms/epoch - 2ms/step\n",
      "Epoch 86/100\n",
      "13/13 - 0s - loss: 18.4139 - 26ms/epoch - 2ms/step\n",
      "Epoch 87/100\n",
      "13/13 - 0s - loss: 14.8690 - 27ms/epoch - 2ms/step\n",
      "Epoch 88/100\n",
      "13/13 - 0s - loss: 16.3692 - 28ms/epoch - 2ms/step\n",
      "Epoch 89/100\n",
      "13/13 - 0s - loss: 15.8527 - 28ms/epoch - 2ms/step\n",
      "Epoch 90/100\n",
      "13/13 - 0s - loss: 14.3196 - 27ms/epoch - 2ms/step\n",
      "Epoch 91/100\n",
      "13/13 - 0s - loss: 14.3914 - 26ms/epoch - 2ms/step\n",
      "Epoch 92/100\n",
      "13/13 - 0s - loss: 15.4478 - 26ms/epoch - 2ms/step\n",
      "Epoch 93/100\n",
      "13/13 - 0s - loss: 15.7441 - 27ms/epoch - 2ms/step\n",
      "Epoch 94/100\n",
      "13/13 - 0s - loss: 13.8905 - 26ms/epoch - 2ms/step\n",
      "Epoch 95/100\n",
      "13/13 - 0s - loss: 15.0788 - 28ms/epoch - 2ms/step\n",
      "Epoch 96/100\n",
      "13/13 - 0s - loss: 13.5361 - 30ms/epoch - 2ms/step\n",
      "Epoch 97/100\n",
      "13/13 - 0s - loss: 14.5157 - 27ms/epoch - 2ms/step\n",
      "Epoch 98/100\n",
      "13/13 - 0s - loss: 14.1823 - 26ms/epoch - 2ms/step\n",
      "Epoch 99/100\n",
      "13/13 - 0s - loss: 15.1221 - 27ms/epoch - 2ms/step\n",
      "Epoch 100/100\n",
      "13/13 - 0s - loss: 13.8903 - 27ms/epoch - 2ms/step\n"
     ]
    },
    {
     "data": {
      "text/plain": [
       "<keras.callbacks.History at 0x2429a166388>"
      ]
     },
     "execution_count": 7,
     "metadata": {},
     "output_type": "execute_result"
    }
   ],
   "source": [
    "from tensorflow.keras.models import Sequential\n",
    "from tensorflow.keras.layers import Dense, Activation\n",
    "import pandas as pd\n",
    "import io\n",
    "import os\n",
    "import requests\n",
    "import numpy as np\n",
    "from sklearn import metrics\n",
    "\n",
    "df = pd.read_csv(\n",
    "    \"https://data.heatonresearch.com/data/t81-558/auto-mpg.csv\", \n",
    "    na_values=['NA', '?'])\n",
    "\n",
    "cars = df['name']\n",
    "\n",
    "# Tratado de missing value\n",
    "df['horsepower'] = df['horsepower'].fillna(df['horsepower'].median())\n",
    "\n",
    "# Pandas a Numpy\n",
    "x = df[['cylinders', 'displacement', 'horsepower', 'weight',\n",
    "       'acceleration', 'year', 'origin']].values\n",
    "y = df['mpg'].values # regression\n",
    "\n",
    "# Construir la red neural\n",
    "model = Sequential()\n",
    "model.add(Dense(25, input_dim=x.shape[1], activation='relu')) # Oculta 1\n",
    "model.add(Dense(10, activation='relu')) # Oculta 2\n",
    "model.add(Dense(1)) # Salida\n",
    "model.compile(loss='mean_squared_error', optimizer='adam')\n",
    "model.fit(x,y,verbose=2,epochs=100)"
   ]
  },
  {
   "cell_type": "markdown",
   "metadata": {
    "id": "82O2rvqiCtiR"
   },
   "source": [
    "### Introducción a los hiperparámetros de redes neuronales\n",
    "\n",
    "Si observa el código anterior, verá que la red neuronal contiene cuatro capas. La primera capa es la capa de entrada porque contiene el parámetro **input_dim** que el programador establece como el número de entradas que tiene el conjunto de datos. La red necesita una neurona de entrada para cada columna del dataset (incluidas las variables ficticias).\n",
    "\n",
    "También hay varias capas ocultas, con 25 y 10 neuronas cada una. Quizás se pregunte cómo el programador eligió estos números. Seleccionar una estructura neuronal oculta es una de las preguntas más comunes sobre las redes neuronales. Desafortunadamente, no hay una respuesta correcta. Estos son hiperparámetros. Son configuraciones que pueden afectar el rendimiento de la red neuronal, pero no hay un medio claramente definido para configurarlas.\n",
    "\n",
    "En general, más neuronas ocultas significan más capacidad para adaptarse a problemas complejos. Sin embargo, demasiadas neuronas pueden provocar Overfitting y largos tiempos de entrenamiento. Muy pocos pueden dar lugar a una adaptación insuficiente del problema y sacrificarán la precisión. Además, cuántas capas tiene es otro hiperparámetro. En general, más capas permiten que la red neuronal pueda realizar más de su ingeniería de características y preprocesamiento de datos. Pero esto también se produce a expensas de los tiempos de entrenamiento y el riesgo de Overfitting. En general, verá que los recuentos de neuronas comienzan más cerca de la capa de entrada y tienden a reducirse hacia la capa de salida en una especie de forma triangular.\n",
    "\n",
    "### Controlar la cantidad de salida\n",
    "\n",
    "El programa produce una línea de salida para cada época de entrenamiento. Puede eliminar esta salida configurando la configuración detallada del comando de ajuste:\n",
    "\n",
    "* **verbose=0** - Sin salida de progreso (utilice con Jupyter si no desea salida)\n",
    "* **verbose=1** - Muestra la barra de progreso, no funciona bien con Jupyter\n",
    "* **verbose=2** - Resumen de resultados de progreso (úselo con Jupyter si desea conocer la pérdida en cada época)\n",
    "\n",
    "### Predicción de regresión\n",
    "\n",
    "A continuación, realizaremos predicciones reales. El programa asigna estas predicciones a la variable **pred**. Estas son todas las predicciones de MPG de la red neuronal. ¿Observe que se trata de una matriz 2D? Siempre puede ver las dimensiones de lo que Keras devuelve imprimiendo **pred.shape**. Las redes neuronales pueden devolver múltiples valores, por lo que el resultado siempre es una matriz. Aquí, la red neuronal solo devuelve un valor por predicción (hay 398 autos, por lo que 398 predicciones). Sin embargo, se necesita un rango 2D porque la red neuronal tiene el potencial de devolver más de un valor.  "
   ]
  },
  {
   "cell_type": "code",
   "execution_count": 8,
   "metadata": {
    "colab": {
     "base_uri": "https://localhost:8080/"
    },
    "id": "HbErLyX_CtiR",
    "outputId": "d3ee0abe-e5b6-4575-8f7f-666a868e0e3f"
   },
   "outputs": [
    {
     "name": "stdout",
     "output_type": "stream",
     "text": [
      "Shape: (398, 1)\n",
      "[[15.588783]\n",
      " [15.046434]\n",
      " [16.291985]\n",
      " [16.862738]\n",
      " [15.839203]\n",
      " [10.71751 ]\n",
      " [10.811102]\n",
      " [10.873663]\n",
      " [10.921455]\n",
      " [13.424355]]\n"
     ]
    }
   ],
   "source": [
    "pred = model.predict(x)\n",
    "print(f\"Shape: {pred.shape}\")\n",
    "print(pred[0:10])"
   ]
  },
  {
   "cell_type": "markdown",
   "metadata": {
    "id": "jk_lWnScCtiR"
   },
   "source": [
    "Nos gustaría ver qué tan buenas son estas predicciones. Sabemos cuál es el MPG correcto para cada automóvil, por lo que podemos medir qué tan cerca estaba la red neuronal."
   ]
  },
  {
   "cell_type": "code",
   "execution_count": 9,
   "metadata": {
    "colab": {
     "base_uri": "https://localhost:8080/"
    },
    "id": "vrY0Vs9oCtiR",
    "outputId": "3be93e76-a814-4349-8907-ef9125938a7e"
   },
   "outputs": [
    {
     "name": "stdout",
     "output_type": "stream",
     "text": [
      "Final score (RMSE): 3.6251872357964077\n"
     ]
    }
   ],
   "source": [
    "# Medir error RMSE. RMSE es común para la regresión.\n",
    "score = np.sqrt(metrics.mean_squared_error(pred,y))\n",
    "print(f\"Final score (RMSE): {score}\")"
   ]
  },
  {
   "cell_type": "markdown",
   "metadata": {
    "id": "i3yqZwhnCtiS"
   },
   "source": [
    "El número impreso arriba es la cantidad promedio en la que las predicciones estuvieron por encima o por debajo del resultado esperado. También podemos imprimir los primeros diez autos, con predicciones y MPG real."
   ]
  },
  {
   "cell_type": "code",
   "execution_count": 10,
   "metadata": {
    "colab": {
     "base_uri": "https://localhost:8080/"
    },
    "id": "Tl7hv8NnCtiS",
    "outputId": "742d6cac-12d6-43a9-d442-64cd8e3e4523"
   },
   "outputs": [
    {
     "name": "stdout",
     "output_type": "stream",
     "text": [
      "1. Nombre del Coche: chevrolet chevelle malibu, MPG: 18.0, predicted MPG: [15.588783]\n",
      "2. Nombre del Coche: buick skylark 320, MPG: 15.0, predicted MPG: [15.046434]\n",
      "3. Nombre del Coche: plymouth satellite, MPG: 18.0, predicted MPG: [16.291985]\n",
      "4. Nombre del Coche: amc rebel sst, MPG: 16.0, predicted MPG: [16.862738]\n",
      "5. Nombre del Coche: ford torino, MPG: 17.0, predicted MPG: [15.839203]\n",
      "6. Nombre del Coche: ford galaxie 500, MPG: 15.0, predicted MPG: [10.71751]\n",
      "7. Nombre del Coche: chevrolet impala, MPG: 14.0, predicted MPG: [10.811102]\n",
      "8. Nombre del Coche: plymouth fury iii, MPG: 14.0, predicted MPG: [10.873663]\n",
      "9. Nombre del Coche: pontiac catalina, MPG: 14.0, predicted MPG: [10.921455]\n",
      "10. Nombre del Coche: amc ambassador dpl, MPG: 15.0, predicted MPG: [13.424355]\n"
     ]
    }
   ],
   "source": [
    "# Ejemplos de predicciones\n",
    "for i in range(10):\n",
    "    print(f\"{i+1}. Nombre del Coche: {cars[i]}, MPG: {y[i]}, \" \n",
    "          + f\"predicted MPG: {pred[i]}\")"
   ]
  },
  {
   "cell_type": "markdown",
   "metadata": {
    "id": "U_dpgVtfCtiS"
   },
   "source": [
    "### Clasificación simple de TensorFlow: Iris\n",
    "\n",
    "La clasificación es el proceso mediante el cual una red neuronal intenta clasificar la entrada en una o más clases. La forma más sencilla de evaluar una red de clasificación es rastrear el porcentaje de elementos del conjunto de entrenamiento que se clasificaron incorrectamente. Por lo general, calificamos los resultados humanos de esta manera. Por ejemplo, es posible que haya realizado exámenes de opción múltiple en la escuela en los que tuvo que sombrear una burbuja para las opciones A, B, C o D. Si elige la letra incorrecta en un examen de 10 preguntas, obtendrá un 90%. De la misma manera, podemos calificar las computadoras; sin embargo, la mayoría de los algoritmos de clasificación no eligen simplemente A, B, C o D. Las computadoras generalmente informan una clasificación como su porcentaje de confianza en cada clase. La Figura 3.EXAM muestra cómo una computadora y un ser humano podrían responder a la pregunta número 1 en un examen.\n",
    "\n",
    "**Figure 3.EXAM: Classification Neural Network Output**\n",
    "![Classification Neural Network Output](images/class-multi-choice.png \"Classification Neural Network Output\")\n",
    "\n",
    "Como puede ver, el examinador humano marcó la primera pregunta como \"B\". Sin embargo, el examinado por computadora tenía un 80 % (0,8) de confianza en \"B\" y también estaba algo seguro con un 10 % (0,1) en \"A\". Luego, la computadora distribuyó los puntos restantes en los otros dos. En el sentido más simple, la máquina obtendría el 80 % de la puntuación de esta pregunta si la respuesta correcta fuera \"B\". La computadora obtendría solo el 5% (0.05) de los puntos si la respuesta correcta fuera \"D\".\n",
    "\n",
    "Lo que acabamos de ver es un ejemplo sencillo de cómo realizar la clasificación de Iris usando TensorFlow. Se usa el archivo iris.csv, en lugar de usar los datos integrados que requieren muchos de los ejemplos de Google.  \n",
    "\n",
    "**Asegúrese de ejecutar siempre bloques de código anteriores. Si ejecuta el bloque de código a continuación, sin el bloque de código anterior, obtendrá errores**"
   ]
  },
  {
   "cell_type": "code",
   "execution_count": 11,
   "metadata": {
    "colab": {
     "base_uri": "https://localhost:8080/"
    },
    "id": "aLp65T9JCtiS",
    "outputId": "cc56ca71-b7cf-41ff-afbe-76cbb465dcca"
   },
   "outputs": [
    {
     "name": "stdout",
     "output_type": "stream",
     "text": [
      "Epoch 1/100\n",
      "5/5 - 0s - loss: 1.3552 - 242ms/epoch - 48ms/step\n",
      "Epoch 2/100\n",
      "5/5 - 0s - loss: 1.1389 - 15ms/epoch - 3ms/step\n",
      "Epoch 3/100\n",
      "5/5 - 0s - loss: 1.0251 - 16ms/epoch - 3ms/step\n",
      "Epoch 4/100\n",
      "5/5 - 0s - loss: 0.9514 - 17ms/epoch - 3ms/step\n",
      "Epoch 5/100\n",
      "5/5 - 0s - loss: 0.8955 - 16ms/epoch - 3ms/step\n",
      "Epoch 6/100\n",
      "5/5 - 0s - loss: 0.8420 - 18ms/epoch - 4ms/step\n",
      "Epoch 7/100\n",
      "5/5 - 0s - loss: 0.7980 - 17ms/epoch - 3ms/step\n",
      "Epoch 8/100\n",
      "5/5 - 0s - loss: 0.7535 - 16ms/epoch - 3ms/step\n",
      "Epoch 9/100\n",
      "5/5 - 0s - loss: 0.7139 - 17ms/epoch - 3ms/step\n",
      "Epoch 10/100\n",
      "5/5 - 0s - loss: 0.6757 - 18ms/epoch - 4ms/step\n",
      "Epoch 11/100\n",
      "5/5 - 0s - loss: 0.6411 - 16ms/epoch - 3ms/step\n",
      "Epoch 12/100\n",
      "5/5 - 0s - loss: 0.6102 - 13ms/epoch - 3ms/step\n",
      "Epoch 13/100\n",
      "5/5 - 0s - loss: 0.5808 - 12ms/epoch - 2ms/step\n",
      "Epoch 14/100\n",
      "5/5 - 0s - loss: 0.5562 - 13ms/epoch - 3ms/step\n",
      "Epoch 15/100\n",
      "5/5 - 0s - loss: 0.5341 - 12ms/epoch - 2ms/step\n",
      "Epoch 16/100\n",
      "5/5 - 0s - loss: 0.5139 - 13ms/epoch - 3ms/step\n",
      "Epoch 17/100\n",
      "5/5 - 0s - loss: 0.4955 - 11ms/epoch - 2ms/step\n",
      "Epoch 18/100\n",
      "5/5 - 0s - loss: 0.4781 - 13ms/epoch - 3ms/step\n",
      "Epoch 19/100\n",
      "5/5 - 0s - loss: 0.4616 - 14ms/epoch - 3ms/step\n",
      "Epoch 20/100\n",
      "5/5 - 0s - loss: 0.4473 - 14ms/epoch - 3ms/step\n",
      "Epoch 21/100\n",
      "5/5 - 0s - loss: 0.4347 - 12ms/epoch - 2ms/step\n",
      "Epoch 22/100\n",
      "5/5 - 0s - loss: 0.4221 - 12ms/epoch - 2ms/step\n",
      "Epoch 23/100\n",
      "5/5 - 0s - loss: 0.4083 - 10ms/epoch - 2ms/step\n",
      "Epoch 24/100\n",
      "5/5 - 0s - loss: 0.3967 - 11ms/epoch - 2ms/step\n",
      "Epoch 25/100\n",
      "5/5 - 0s - loss: 0.3845 - 10ms/epoch - 2ms/step\n",
      "Epoch 26/100\n",
      "5/5 - 0s - loss: 0.3745 - 12ms/epoch - 2ms/step\n",
      "Epoch 27/100\n",
      "5/5 - 0s - loss: 0.3629 - 12ms/epoch - 2ms/step\n",
      "Epoch 28/100\n",
      "5/5 - 0s - loss: 0.3547 - 11ms/epoch - 2ms/step\n",
      "Epoch 29/100\n",
      "5/5 - 0s - loss: 0.3415 - 13ms/epoch - 3ms/step\n",
      "Epoch 30/100\n",
      "5/5 - 0s - loss: 0.3340 - 11ms/epoch - 2ms/step\n",
      "Epoch 31/100\n",
      "5/5 - 0s - loss: 0.3200 - 10ms/epoch - 2ms/step\n",
      "Epoch 32/100\n",
      "5/5 - 0s - loss: 0.3113 - 11ms/epoch - 2ms/step\n",
      "Epoch 33/100\n",
      "5/5 - 0s - loss: 0.3000 - 11ms/epoch - 2ms/step\n",
      "Epoch 34/100\n",
      "5/5 - 0s - loss: 0.2918 - 12ms/epoch - 2ms/step\n",
      "Epoch 35/100\n",
      "5/5 - 0s - loss: 0.2809 - 11ms/epoch - 2ms/step\n",
      "Epoch 36/100\n",
      "5/5 - 0s - loss: 0.2732 - 11ms/epoch - 2ms/step\n",
      "Epoch 37/100\n",
      "5/5 - 0s - loss: 0.2629 - 12ms/epoch - 2ms/step\n",
      "Epoch 38/100\n",
      "5/5 - 0s - loss: 0.2555 - 11ms/epoch - 2ms/step\n",
      "Epoch 39/100\n",
      "5/5 - 0s - loss: 0.2467 - 11ms/epoch - 2ms/step\n",
      "Epoch 40/100\n",
      "5/5 - 0s - loss: 0.2427 - 12ms/epoch - 2ms/step\n",
      "Epoch 41/100\n",
      "5/5 - 0s - loss: 0.2311 - 10ms/epoch - 2ms/step\n",
      "Epoch 42/100\n",
      "5/5 - 0s - loss: 0.2216 - 11ms/epoch - 2ms/step\n",
      "Epoch 43/100\n",
      "5/5 - 0s - loss: 0.2098 - 11ms/epoch - 2ms/step\n",
      "Epoch 44/100\n",
      "5/5 - 0s - loss: 0.2034 - 11ms/epoch - 2ms/step\n",
      "Epoch 45/100\n",
      "5/5 - 0s - loss: 0.1952 - 10ms/epoch - 2ms/step\n",
      "Epoch 46/100\n",
      "5/5 - 0s - loss: 0.1886 - 11ms/epoch - 2ms/step\n",
      "Epoch 47/100\n",
      "5/5 - 0s - loss: 0.1829 - 11ms/epoch - 2ms/step\n",
      "Epoch 48/100\n",
      "5/5 - 0s - loss: 0.1776 - 11ms/epoch - 2ms/step\n",
      "Epoch 49/100\n",
      "5/5 - 0s - loss: 0.1718 - 12ms/epoch - 2ms/step\n",
      "Epoch 50/100\n",
      "5/5 - 0s - loss: 0.1676 - 11ms/epoch - 2ms/step\n",
      "Epoch 51/100\n",
      "5/5 - 0s - loss: 0.1618 - 12ms/epoch - 2ms/step\n",
      "Epoch 52/100\n",
      "5/5 - 0s - loss: 0.1570 - 11ms/epoch - 2ms/step\n",
      "Epoch 53/100\n",
      "5/5 - 0s - loss: 0.1534 - 11ms/epoch - 2ms/step\n",
      "Epoch 54/100\n",
      "5/5 - 0s - loss: 0.1495 - 11ms/epoch - 2ms/step\n",
      "Epoch 55/100\n",
      "5/5 - 0s - loss: 0.1462 - 11ms/epoch - 2ms/step\n",
      "Epoch 56/100\n",
      "5/5 - 0s - loss: 0.1444 - 12ms/epoch - 2ms/step\n",
      "Epoch 57/100\n",
      "5/5 - 0s - loss: 0.1389 - 11ms/epoch - 2ms/step\n",
      "Epoch 58/100\n",
      "5/5 - 0s - loss: 0.1364 - 12ms/epoch - 2ms/step\n",
      "Epoch 59/100\n",
      "5/5 - 0s - loss: 0.1339 - 10ms/epoch - 2ms/step\n",
      "Epoch 60/100\n",
      "5/5 - 0s - loss: 0.1301 - 11ms/epoch - 2ms/step\n",
      "Epoch 61/100\n",
      "5/5 - 0s - loss: 0.1270 - 12ms/epoch - 2ms/step\n",
      "Epoch 62/100\n",
      "5/5 - 0s - loss: 0.1247 - 12ms/epoch - 2ms/step\n",
      "Epoch 63/100\n",
      "5/5 - 0s - loss: 0.1223 - 11ms/epoch - 2ms/step\n",
      "Epoch 64/100\n",
      "5/5 - 0s - loss: 0.1202 - 12ms/epoch - 2ms/step\n",
      "Epoch 65/100\n",
      "5/5 - 0s - loss: 0.1175 - 12ms/epoch - 2ms/step\n",
      "Epoch 66/100\n",
      "5/5 - 0s - loss: 0.1167 - 12ms/epoch - 2ms/step\n",
      "Epoch 67/100\n",
      "5/5 - 0s - loss: 0.1136 - 11ms/epoch - 2ms/step\n",
      "Epoch 68/100\n",
      "5/5 - 0s - loss: 0.1120 - 11ms/epoch - 2ms/step\n",
      "Epoch 69/100\n",
      "5/5 - 0s - loss: 0.1098 - 13ms/epoch - 3ms/step\n",
      "Epoch 70/100\n",
      "5/5 - 0s - loss: 0.1084 - 12ms/epoch - 2ms/step\n",
      "Epoch 71/100\n",
      "5/5 - 0s - loss: 0.1080 - 12ms/epoch - 2ms/step\n",
      "Epoch 72/100\n",
      "5/5 - 0s - loss: 0.1056 - 10ms/epoch - 2ms/step\n",
      "Epoch 73/100\n",
      "5/5 - 0s - loss: 0.1059 - 11ms/epoch - 2ms/step\n",
      "Epoch 74/100\n",
      "5/5 - 0s - loss: 0.1062 - 10ms/epoch - 2ms/step\n",
      "Epoch 75/100\n",
      "5/5 - 0s - loss: 0.1010 - 11ms/epoch - 2ms/step\n",
      "Epoch 76/100\n",
      "5/5 - 0s - loss: 0.1013 - 11ms/epoch - 2ms/step\n",
      "Epoch 77/100\n",
      "5/5 - 0s - loss: 0.0993 - 12ms/epoch - 2ms/step\n",
      "Epoch 78/100\n",
      "5/5 - 0s - loss: 0.0987 - 11ms/epoch - 2ms/step\n",
      "Epoch 79/100\n",
      "5/5 - 0s - loss: 0.0973 - 12ms/epoch - 2ms/step\n",
      "Epoch 80/100\n",
      "5/5 - 0s - loss: 0.0964 - 11ms/epoch - 2ms/step\n",
      "Epoch 81/100\n",
      "5/5 - 0s - loss: 0.0972 - 12ms/epoch - 2ms/step\n",
      "Epoch 82/100\n",
      "5/5 - 0s - loss: 0.0948 - 11ms/epoch - 2ms/step\n",
      "Epoch 83/100\n",
      "5/5 - 0s - loss: 0.0939 - 11ms/epoch - 2ms/step\n",
      "Epoch 84/100\n",
      "5/5 - 0s - loss: 0.0915 - 12ms/epoch - 2ms/step\n",
      "Epoch 85/100\n",
      "5/5 - 0s - loss: 0.0930 - 10ms/epoch - 2ms/step\n",
      "Epoch 86/100\n",
      "5/5 - 0s - loss: 0.0902 - 12ms/epoch - 2ms/step\n",
      "Epoch 87/100\n",
      "5/5 - 0s - loss: 0.0919 - 17ms/epoch - 3ms/step\n",
      "Epoch 88/100\n",
      "5/5 - 0s - loss: 0.0914 - 13ms/epoch - 3ms/step\n",
      "Epoch 89/100\n",
      "5/5 - 0s - loss: 0.0881 - 12ms/epoch - 2ms/step\n",
      "Epoch 90/100\n",
      "5/5 - 0s - loss: 0.0870 - 12ms/epoch - 2ms/step\n",
      "Epoch 91/100\n",
      "5/5 - 0s - loss: 0.0884 - 11ms/epoch - 2ms/step\n",
      "Epoch 92/100\n",
      "5/5 - 0s - loss: 0.0848 - 11ms/epoch - 2ms/step\n",
      "Epoch 93/100\n",
      "5/5 - 0s - loss: 0.0846 - 11ms/epoch - 2ms/step\n",
      "Epoch 94/100\n",
      "5/5 - 0s - loss: 0.0832 - 11ms/epoch - 2ms/step\n",
      "Epoch 95/100\n",
      "5/5 - 0s - loss: 0.0826 - 10ms/epoch - 2ms/step\n",
      "Epoch 96/100\n",
      "5/5 - 0s - loss: 0.0824 - 11ms/epoch - 2ms/step\n",
      "Epoch 97/100\n",
      "5/5 - 0s - loss: 0.0805 - 11ms/epoch - 2ms/step\n",
      "Epoch 98/100\n",
      "5/5 - 0s - loss: 0.0850 - 12ms/epoch - 2ms/step\n",
      "Epoch 99/100\n",
      "5/5 - 0s - loss: 0.0798 - 12ms/epoch - 2ms/step\n",
      "Epoch 100/100\n",
      "5/5 - 0s - loss: 0.0799 - 11ms/epoch - 2ms/step\n"
     ]
    },
    {
     "data": {
      "text/plain": [
       "<keras.callbacks.History at 0x2429dcbc448>"
      ]
     },
     "execution_count": 11,
     "metadata": {},
     "output_type": "execute_result"
    }
   ],
   "source": [
    "import pandas as pd\n",
    "import io\n",
    "import requests\n",
    "import numpy as np\n",
    "from sklearn import metrics\n",
    "from tensorflow.keras.models import Sequential\n",
    "from tensorflow.keras.layers import Dense, Activation\n",
    "from tensorflow.keras.callbacks import EarlyStopping\n",
    "\n",
    "df = pd.read_csv(\n",
    "    \"https://data.heatonresearch.com/data/t81-558/iris.csv\", \n",
    "    na_values=['NA', '?'])\n",
    "\n",
    "# Convertir a numpy - Clasificación\n",
    "x = df[['sepal_l', 'sepal_w', 'petal_l', 'petal_w']].values\n",
    "dummies = pd.get_dummies(df['species']) # Classificación\n",
    "species = dummies.columns\n",
    "y = dummies.values\n",
    "\n",
    "\n",
    "# Construir la red neuronal\n",
    "model = Sequential()\n",
    "model.add(Dense(50, input_dim=x.shape[1], activation='relu')) # Oculta 1\n",
    "model.add(Dense(25, activation='relu')) # Oculta 2\n",
    "model.add(Dense(y.shape[1],activation='softmax')) # Salida\n",
    "\n",
    "model.compile(loss='categorical_crossentropy', optimizer='adam')\n",
    "model.fit(x,y,verbose=2,epochs=100)"
   ]
  },
  {
   "cell_type": "code",
   "execution_count": 12,
   "metadata": {
    "colab": {
     "base_uri": "https://localhost:8080/"
    },
    "id": "QPM30WdBCtiS",
    "outputId": "a02c3d4e-239f-44b2-bb1f-f8904114ac29"
   },
   "outputs": [
    {
     "name": "stdout",
     "output_type": "stream",
     "text": [
      "Index(['Iris-setosa', 'Iris-versicolor', 'Iris-virginica'], dtype='object')\n"
     ]
    }
   ],
   "source": [
    "# Imprimir el número de especies encontradas:\n",
    "\n",
    "print(species)"
   ]
  },
  {
   "cell_type": "markdown",
   "metadata": {
    "id": "dM8-xyDxCtiS"
   },
   "source": [
    "Ahora que tiene un entrenamiento de red neuronal, nos gustaría poder usarlo. El siguiente código hace uso de nuestra red neuronal. Exactamente como antes, generaremos predicciones. Observe que vuelven tres valores para cada una de las 150 flores de iris. Había tres tipos de iris (Iris-setosa, Iris-versicolor e Iris-virginica)."
   ]
  },
  {
   "cell_type": "code",
   "execution_count": 13,
   "metadata": {
    "colab": {
     "base_uri": "https://localhost:8080/"
    },
    "id": "3YzlVpw-CtiS",
    "outputId": "a253eb73-5a42-4276-87f7-c287bdc52edb"
   },
   "outputs": [
    {
     "name": "stdout",
     "output_type": "stream",
     "text": [
      "Shape: (150, 3)\n",
      "[[9.96728659e-01 3.27128102e-03 2.53017216e-08]\n",
      " [9.91585255e-01 8.41462333e-03 1.49150893e-07]\n",
      " [9.94830191e-01 5.16966265e-03 9.47089234e-08]\n",
      " [9.90646124e-01 9.35364701e-03 2.78289463e-07]\n",
      " [9.97087419e-01 2.91259773e-03 2.45902338e-08]\n",
      " [9.96406496e-01 3.59352934e-03 2.21737206e-08]\n",
      " [9.94559228e-01 5.44067845e-03 1.30652865e-07]\n",
      " [9.95159090e-01 4.84086853e-03 5.43411645e-08]\n",
      " [9.88472879e-01 1.15266778e-02 5.21418315e-07]\n",
      " [9.92857814e-01 7.14205066e-03 1.06054294e-07]]\n"
     ]
    }
   ],
   "source": [
    "pred = model.predict(x)\n",
    "print(f\"Shape: {pred.shape}\")\n",
    "print(pred[0:10])"
   ]
  },
  {
   "cell_type": "markdown",
   "metadata": {
    "id": "JCay-JrvCtiS"
   },
   "source": [
    "Si desea desactivar la notación científica, puede utilizar la siguiente línea:"
   ]
  },
  {
   "cell_type": "code",
   "execution_count": 14,
   "metadata": {
    "id": "nXZne7ZICtiS"
   },
   "outputs": [],
   "source": [
    "np.set_printoptions(suppress=True)"
   ]
  },
  {
   "cell_type": "markdown",
   "metadata": {
    "id": "nOvMqI7QCtiS"
   },
   "source": [
    "Ahora vemos estos valores redondeados."
   ]
  },
  {
   "cell_type": "code",
   "execution_count": 15,
   "metadata": {
    "colab": {
     "base_uri": "https://localhost:8080/"
    },
    "id": "F9PSDexjCtiS",
    "outputId": "cce7841f-4c30-45d6-f80a-ee886986844b"
   },
   "outputs": [
    {
     "name": "stdout",
     "output_type": "stream",
     "text": [
      "[[1 0 0]\n",
      " [1 0 0]\n",
      " [1 0 0]\n",
      " [1 0 0]\n",
      " [1 0 0]\n",
      " [1 0 0]\n",
      " [1 0 0]\n",
      " [1 0 0]\n",
      " [1 0 0]\n",
      " [1 0 0]]\n"
     ]
    }
   ],
   "source": [
    "print(y[0:10])"
   ]
  },
  {
   "cell_type": "markdown",
   "metadata": {
    "id": "qDC7hxqECtiS"
   },
   "source": [
    "Por lo general, el programa considera que la columna con la predicción más alta es la predicción de la red neuronal. Es fácil convertir las predicciones a las especies de iris esperadas. La función argmax encuentra el índice de la predicción máxima para cada fila."
   ]
  },
  {
   "cell_type": "code",
   "execution_count": 16,
   "metadata": {
    "colab": {
     "base_uri": "https://localhost:8080/"
    },
    "id": "367mbx_PCtiT",
    "outputId": "ea639c6e-7ba5-404e-afb9-8921e0891dd1"
   },
   "outputs": [
    {
     "name": "stdout",
     "output_type": "stream",
     "text": [
      "Predictions: [0 0 0 0 0 0 0 0 0 0 0 0 0 0 0 0 0 0 0 0 0 0 0 0 0 0 0 0 0 0 0 0 0 0 0 0 0\n",
      " 0 0 0 0 0 0 0 0 0 0 0 0 0 1 1 1 1 1 1 1 1 1 1 1 1 1 1 1 1 1 1 1 1 2 1 2 1\n",
      " 1 1 1 1 1 1 1 1 1 2 1 1 1 1 1 1 1 1 1 1 1 1 1 1 1 1 2 2 2 2 2 2 2 2 2 2 2\n",
      " 2 2 2 2 2 2 2 2 2 2 2 2 2 2 2 2 2 2 2 2 2 2 2 2 2 2 2 2 2 2 2 2 2 2 2 2 2\n",
      " 2 2]\n",
      "Expected: [0 0 0 0 0 0 0 0 0 0 0 0 0 0 0 0 0 0 0 0 0 0 0 0 0 0 0 0 0 0 0 0 0 0 0 0 0\n",
      " 0 0 0 0 0 0 0 0 0 0 0 0 0 1 1 1 1 1 1 1 1 1 1 1 1 1 1 1 1 1 1 1 1 1 1 1 1\n",
      " 1 1 1 1 1 1 1 1 1 1 1 1 1 1 1 1 1 1 1 1 1 1 1 1 1 1 2 2 2 2 2 2 2 2 2 2 2\n",
      " 2 2 2 2 2 2 2 2 2 2 2 2 2 2 2 2 2 2 2 2 2 2 2 2 2 2 2 2 2 2 2 2 2 2 2 2 2\n",
      " 2 2]\n"
     ]
    }
   ],
   "source": [
    "predict_classes = np.argmax(pred,axis=1)\n",
    "expected_classes = np.argmax(y,axis=1)\n",
    "print(f\"Predictions: {predict_classes}\")\n",
    "print(f\"Expected: {expected_classes}\")"
   ]
  },
  {
   "cell_type": "markdown",
   "metadata": {
    "id": "lrcy0Q4xCtiT"
   },
   "source": [
    "Por supuesto, es sencillo volver a convertir estos índices en especies de iris. Usamos la lista de especies que creamos anteriormente."
   ]
  },
  {
   "cell_type": "code",
   "execution_count": 17,
   "metadata": {
    "colab": {
     "base_uri": "https://localhost:8080/"
    },
    "id": "NTORTvygCtiT",
    "outputId": "93b065ef-9c84-4103-992c-a77fe7be8519"
   },
   "outputs": [
    {
     "name": "stdout",
     "output_type": "stream",
     "text": [
      "Index(['Iris-setosa', 'Iris-setosa', 'Iris-setosa', 'Iris-setosa',\n",
      "       'Iris-setosa', 'Iris-setosa', 'Iris-setosa', 'Iris-setosa',\n",
      "       'Iris-setosa'],\n",
      "      dtype='object')\n"
     ]
    }
   ],
   "source": [
    "print(species[predict_classes[1:10]])"
   ]
  },
  {
   "cell_type": "markdown",
   "metadata": {
    "id": "Ljez1ZRACtiT"
   },
   "source": [
    "La precisión podría ser una métrica de error más fácil de entender. Es esencialmente un puntaje de prueba. Para todas las predicciones del iris, ¿qué porcentaje fue correcto? La desventaja es que no considera la confianza de la red neuronal en cada predicción."
   ]
  },
  {
   "cell_type": "code",
   "execution_count": 18,
   "metadata": {
    "colab": {
     "base_uri": "https://localhost:8080/"
    },
    "id": "zth2S2OcCtiT",
    "outputId": "245de0c3-22c8-4337-c631-a2967a8d44d8"
   },
   "outputs": [
    {
     "name": "stdout",
     "output_type": "stream",
     "text": [
      "Accuracy: 0.98\n"
     ]
    }
   ],
   "source": [
    "from sklearn.metrics import accuracy_score\n",
    "\n",
    "correct = accuracy_score(expected_classes,predict_classes)\n",
    "print(f\"Accuracy: {correct}\")"
   ]
  },
  {
   "cell_type": "markdown",
   "metadata": {
    "id": "jY07aiLICtiT"
   },
   "source": [
    "El siguiente código realiza dos predicciones ad hoc. La primera predicción es simplemente una sola flor de iris y la segunda predice dos flores de iris. ¿Observe que el argmax en la segunda predicción requiere **axis=1**? Dado que ahora tenemos una matriz 2D, debemos especificar qué eje tomará el argmax. El valor **axis=1** especifica que queremos el índice de columna máximo para cada fila."
   ]
  },
  {
   "cell_type": "code",
   "execution_count": 20,
   "metadata": {
    "colab": {
     "base_uri": "https://localhost:8080/"
    },
    "id": "FZUSWVGnCtiT",
    "outputId": "3a38bf92-837c-469e-a672-8c7f53894650"
   },
   "outputs": [
    {
     "name": "stdout",
     "output_type": "stream",
     "text": [
      "[[0.00051492 0.17222434 0.8272607 ]]\n",
      "La predicción parea [[5. 3. 4. 2.]] is: Iris-virginica\n"
     ]
    }
   ],
   "source": [
    "ejemplo_flor = np.array( [[5.0,3.0,4.0,2.0]], dtype=float)\n",
    "pred = model.predict(ejemplo_flor)\n",
    "print(pred)\n",
    "pred = np.argmax(pred)\n",
    "print(f\"La predicción parea {ejemplo_flor} is: {species[pred]}\")"
   ]
  },
  {
   "cell_type": "markdown",
   "metadata": {
    "id": "ENSZaaRICtiT"
   },
   "source": [
    "\n",
    "También puede predecir dos flores de muestra."
   ]
  },
  {
   "cell_type": "code",
   "execution_count": 22,
   "metadata": {
    "colab": {
     "base_uri": "https://localhost:8080/"
    },
    "id": "fdSSkkmwCtiT",
    "outputId": "2be33dec-832b-445f-dc82-35181e7932a3"
   },
   "outputs": [
    {
     "name": "stdout",
     "output_type": "stream",
     "text": [
      "[[0.00051492 0.17222425 0.8272608 ]\n",
      " [0.9890956  0.01090409 0.00000023]]\n",
      "La predicción para las dos flores [[5.  3.  4.  2. ]\n",
      " [5.2 3.5 1.5 0.8]] \n",
      "Es: Index(['Iris-virginica', 'Iris-setosa'], dtype='object')\n"
     ]
    }
   ],
   "source": [
    "ejemplo_flor = np.array( [[5.0,3.0,4.0,2.0],[5.2,3.5,1.5,0.8]],\\\n",
    "        dtype=float)\n",
    "pred = model.predict(ejemplo_flor)\n",
    "print(pred)\n",
    "pred = np.argmax(pred,axis=1)\n",
    "print(f\"La predicción para las dos flores {ejemplo_flor} \")\n",
    "print(f\"Es: {species[pred]}\")"
   ]
  }
 ],
 "metadata": {
  "anaconda-cloud": {},
  "colab": {
   "collapsed_sections": [],
   "name": "Copy of t81_558_class_03_2_keras.ipynb",
   "provenance": []
  },
  "interpreter": {
   "hash": "129c28eb7371f81f3b772b69408a02d1e141a0d5c957c78df09fa0d1b2bc4f41"
  },
  "kernelspec": {
   "display_name": "Python 3.9 (tensorflow)",
   "language": "python",
   "name": "python3"
  },
  "language_info": {
   "codemirror_mode": {
    "name": "ipython",
    "version": 3
   },
   "file_extension": ".py",
   "mimetype": "text/x-python",
   "name": "python",
   "nbconvert_exporter": "python",
   "pygments_lexer": "ipython3",
   "version": "3.7.4"
  }
 },
 "nbformat": 4,
 "nbformat_minor": 1
}
