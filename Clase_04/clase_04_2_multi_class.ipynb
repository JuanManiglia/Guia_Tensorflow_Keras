{
 "cells": [
  {
   "cell_type": "markdown",
   "metadata": {},
   "source": [
    "**Modulo 4 : Entrenamiento para Datos Tabulares**\n",
    "* Instructor: [Juan Maniglia](https://juanmaniglia.github.io)"
   ]
  },
  {
   "cell_type": "markdown",
   "metadata": {},
   "source": [
    "# Parte 4.2: Multiclases Clasificación con ROC y AUC\n",
    "\n",
    "* **Binary Clasificación** - Clasificación entre dos posibilidades (positiva y negativa). Común en las pruebas médicas, si la persona tiene la enfermedad (positivo) o no (negativo).\n",
    "* **Clasificación** - Clasificación entre más de 2. El conjunto de datos del iris (clasificación de 3 vías).\n",
    "* **Regresión** - Predicción numérica. ¿Cuántos MPG obtiene un automóvil?.\n",
    "\n",
    "En esta sesión de clase, veremos algunas visualizaciones para los tres.\n",
    "\n",
    "\n",
    "Es importante evaluar el nivel de error en los resultados producidos por una red neuronal. En esta parte, veremos cómo evaluar el error para las redes neuronales de clasificación y regresión."
   ]
  },
  {
   "cell_type": "markdown",
   "metadata": {},
   "source": [
    "## Binary Clasificación y gráficos ROC \n",
    "\n",
    "La clasificación binaria ocurre cuando una red neuronal debe elegir entre dos opciones, que pueden ser verdadero/falso, sí/no, correcto/incorrecto o comprar/vender. Para ver cómo usar la clasificación binaria, consideraremos un sistema de clasificación para una compañía de tarjetas de crédito. Este sistema de clasificación debe decidir cómo responder a un nuevo cliente potencial. Este sistema \"emitirá una tarjeta de crédito\" o \"rechazará una tarjeta de crédito\".\n",
    "\n",
    "Cuando solo tiene dos clases que puede considerar, la puntuación de la función objetivo es la cantidad de predicciones falsas positivas frente a la cantidad de falsos negativos. Los falsos negativos y los falsos positivos son tipos de errores y es importante comprender la diferencia. Para el ejemplo anterior, emitir una tarjeta de crédito sería lo positivo. Un falso positivo ocurre cuando se emite una tarjeta de crédito a alguien que se convertirá en un mal riesgo crediticio. Un falso negativo ocurre cuando se rechaza una tarjeta de crédito a alguien que habría sido un buen riesgo.\n",
    "\n",
    "Debido a que solo existen dos opciones, podemos elegir el error que es el tipo de error más grave, un falso positivo o un falso negativo. Para la mayoría de los bancos que emiten tarjetas de crédito, un falso positivo es peor que un falso negativo. Rechazar a un titular de tarjeta de crédito potencialmente bueno es mejor que aceptar a un titular de tarjeta de crédito que haría que el banco realizara costosas actividades de cobro.\n",
    " "
   ]
  },
  {
   "cell_type": "code",
   "execution_count": 2,
   "metadata": {},
   "outputs": [
    {
     "data": {
      "text/html": [
       "<div>\n",
       "<style scoped>\n",
       "    .dataframe tbody tr th:only-of-type {\n",
       "        vertical-align: middle;\n",
       "    }\n",
       "\n",
       "    .dataframe tbody tr th {\n",
       "        vertical-align: top;\n",
       "    }\n",
       "\n",
       "    .dataframe thead th {\n",
       "        text-align: right;\n",
       "    }\n",
       "</style>\n",
       "<table border=\"1\" class=\"dataframe\">\n",
       "  <thead>\n",
       "    <tr style=\"text-align: right;\">\n",
       "      <th></th>\n",
       "      <th>id</th>\n",
       "      <th>diagnosis</th>\n",
       "      <th>mean_radius</th>\n",
       "      <th>mean_texture</th>\n",
       "      <th>mean_perimeter</th>\n",
       "      <th>...</th>\n",
       "      <th>worst_compactness</th>\n",
       "      <th>worst_concavity</th>\n",
       "      <th>worst_concave_points</th>\n",
       "      <th>worst_symmetry</th>\n",
       "      <th>worst_fractal_dimension</th>\n",
       "    </tr>\n",
       "  </thead>\n",
       "  <tbody>\n",
       "    <tr>\n",
       "      <th>0</th>\n",
       "      <td>842302</td>\n",
       "      <td>M</td>\n",
       "      <td>17.99</td>\n",
       "      <td>10.38</td>\n",
       "      <td>122.80</td>\n",
       "      <td>...</td>\n",
       "      <td>0.66560</td>\n",
       "      <td>0.7119</td>\n",
       "      <td>0.2654</td>\n",
       "      <td>0.4601</td>\n",
       "      <td>0.11890</td>\n",
       "    </tr>\n",
       "    <tr>\n",
       "      <th>1</th>\n",
       "      <td>842517</td>\n",
       "      <td>M</td>\n",
       "      <td>20.57</td>\n",
       "      <td>17.77</td>\n",
       "      <td>132.90</td>\n",
       "      <td>...</td>\n",
       "      <td>0.18660</td>\n",
       "      <td>0.2416</td>\n",
       "      <td>0.1860</td>\n",
       "      <td>0.2750</td>\n",
       "      <td>0.08902</td>\n",
       "    </tr>\n",
       "    <tr>\n",
       "      <th>...</th>\n",
       "      <td>...</td>\n",
       "      <td>...</td>\n",
       "      <td>...</td>\n",
       "      <td>...</td>\n",
       "      <td>...</td>\n",
       "      <td>...</td>\n",
       "      <td>...</td>\n",
       "      <td>...</td>\n",
       "      <td>...</td>\n",
       "      <td>...</td>\n",
       "      <td>...</td>\n",
       "    </tr>\n",
       "    <tr>\n",
       "      <th>567</th>\n",
       "      <td>927241</td>\n",
       "      <td>M</td>\n",
       "      <td>20.60</td>\n",
       "      <td>29.33</td>\n",
       "      <td>140.10</td>\n",
       "      <td>...</td>\n",
       "      <td>0.86810</td>\n",
       "      <td>0.9387</td>\n",
       "      <td>0.2650</td>\n",
       "      <td>0.4087</td>\n",
       "      <td>0.12400</td>\n",
       "    </tr>\n",
       "    <tr>\n",
       "      <th>568</th>\n",
       "      <td>92751</td>\n",
       "      <td>B</td>\n",
       "      <td>7.76</td>\n",
       "      <td>24.54</td>\n",
       "      <td>47.92</td>\n",
       "      <td>...</td>\n",
       "      <td>0.06444</td>\n",
       "      <td>0.0000</td>\n",
       "      <td>0.0000</td>\n",
       "      <td>0.2871</td>\n",
       "      <td>0.07039</td>\n",
       "    </tr>\n",
       "  </tbody>\n",
       "</table>\n",
       "<p>569 rows × 32 columns</p>\n",
       "</div>"
      ],
      "text/plain": [
       "         id diagnosis  mean_radius  mean_texture  mean_perimeter  ...  \\\n",
       "0    842302         M        17.99         10.38          122.80  ...   \n",
       "1    842517         M        20.57         17.77          132.90  ...   \n",
       "..      ...       ...          ...           ...             ...  ...   \n",
       "567  927241         M        20.60         29.33          140.10  ...   \n",
       "568   92751         B         7.76         24.54           47.92  ...   \n",
       "\n",
       "     worst_compactness  worst_concavity  worst_concave_points  worst_symmetry  \\\n",
       "0              0.66560           0.7119                0.2654          0.4601   \n",
       "1              0.18660           0.2416                0.1860          0.2750   \n",
       "..                 ...              ...                   ...             ...   \n",
       "567            0.86810           0.9387                0.2650          0.4087   \n",
       "568            0.06444           0.0000                0.0000          0.2871   \n",
       "\n",
       "     worst_fractal_dimension  \n",
       "0                    0.11890  \n",
       "1                    0.08902  \n",
       "..                       ...  \n",
       "567                  0.12400  \n",
       "568                  0.07039  \n",
       "\n",
       "[569 rows x 32 columns]"
      ]
     },
     "metadata": {},
     "output_type": "display_data"
    }
   ],
   "source": [
    "import pandas as pd\n",
    "\n",
    "df = pd.read_csv(\n",
    "    \"https://data.heatonresearch.com/data/t81-558/wcbreast_wdbc.csv\",\n",
    "    na_values=['NA','?'])\n",
    "\n",
    "pd.set_option('display.max_columns', 10)\n",
    "pd.set_option('display.max_rows', 5)\n",
    "\n",
    "display(df)"
   ]
  },
  {
   "cell_type": "markdown",
   "metadata": {},
   "source": [
    "Las curvas ROC pueden ser un poco confusas. Sin embargo, son muy comunes. Es importante saber leerlos. Incluso su nombre es confuso. No te preocupes por su nombre, proviene de ingeniería eléctrica (EE).\n",
    "\n",
    "La clasificación binaria es común en las pruebas médicas. A menudo desea diagnosticar si alguien tiene una enfermedad. Esto puede dar lugar a dos tipos de errores, conocidos como falsos positivos y falsos negativos:\n",
    "\n",
    "* **Falso positivo**: su prueba (red neuronal) indicó que el paciente tenía la enfermedad; sin embargo, el paciente no tenía la enfermedad.\n",
    "* **Falso Negativo** - Su prueba (red neuronal) indicó que el paciente no tenía la enfermedad; sin embargo, el paciente sí tenía la enfermedad.\n",
    "* **Verdadero positivo**: su prueba (red neuronal) identificó correctamente que el paciente tenía la enfermedad.\n",
    "* **Verdadero Negativo** - Su prueba (red neuronal) identificó correctamente que el paciente no tenía la enfermedad.\n",
    "\n",
    "Los tipos de errores se pueden ver en la Figura 4.ETYP. \n",
    "\n",
    "**Figure 4.ETYP: Type of Error**\n",
    "![Type of Error](https://raw.githubusercontent.com/jeffheaton/t81_558_deep_learning/master/images/class_4_errors.png \"Type of Error\")\n",
    "\n",
    "Las redes neuronales clasifican en términos de probabilidad de que sea positivo. Sin embargo, ¿con qué probabilidad da un resultado positivo? ¿El corte es del 50%? 90%? El lugar donde establece este límite se denomina umbral. Todo lo que esté por encima del límite es positivo, todo lo que esté por debajo es negativo. Establecer este límite permite que el modelo sea más sensible o específico:"
   ]
  },
  {
   "cell_type": "code",
   "execution_count": 3,
   "metadata": {
    "scrolled": false
   },
   "outputs": [
    {
     "data": {
      "image/png": "[encoded data removed]",
      "text/plain": [
       "<Figure size 432x288 with 1 Axes>"
      ]
     },
     "metadata": {
      "needs_background": "light"
     },
     "output_type": "display_data"
    }
   ],
   "source": [
    "%matplotlib inline\n",
    "import matplotlib.pyplot as plt\n",
    "import numpy as np\n",
    "import scipy.stats as stats\n",
    "import math\n",
    "\n",
    "mu1 = -2\n",
    "mu2 = 2\n",
    "variance = 1\n",
    "sigma = math.sqrt(variance)\n",
    "x1 = np.linspace(mu1 - 5*sigma, mu1 + 4*sigma, 100)\n",
    "x2 = np.linspace(mu2 - 5*sigma, mu2 + 4*sigma, 100)\n",
    "plt.plot(x1, stats.norm.pdf(x1, mu1, sigma)/1,color=\"green\", \n",
    "         linestyle='dashed')\n",
    "plt.plot(x2, stats.norm.pdf(x2, mu2, sigma)/1,color=\"red\")\n",
    "plt.axvline(x=-2,color=\"black\")\n",
    "plt.axvline(x=0,color=\"black\")\n",
    "plt.axvline(x=+2,color=\"black\")\n",
    "plt.text(-2.7,0.55,\"Sensitive\")\n",
    "plt.text(-0.7,0.55,\"Balanced\")\n",
    "plt.text(1.7,0.55,\"Specific\")\n",
    "plt.ylim([0,0.53])\n",
    "plt.xlim([-5,5])\n",
    "plt.legend(['Negative','Positive'])\n",
    "plt.yticks([])\n",
    "plt.show()"
   ]
  },
  {
   "cell_type": "code",
   "execution_count": 6,
   "metadata": {},
   "outputs": [],
   "source": [
    "from scipy.stats import zscore\n",
    "\n",
    "# Preparar datos: aplicar z-score a TODAS las columnas x\n",
    "# Solo haga esto si no tiene categóricos (y está seguro de que\n",
    "# quiero usar el z-score en todos los ámbitos)\n",
    "x_columns = df.columns.drop('diagnosis').drop('id')\n",
    "for col in x_columns:\n",
    "    df[col] = zscore(df[col])\n",
    "\n",
    "# Convertir a numpy - Regresión\n",
    "x = df[x_columns].values\n",
    "y = df['diagnosis'].map({'M':1,\"B\":0}).values # Binary clasificación"
   ]
  },
  {
   "cell_type": "code",
   "execution_count": 7,
   "metadata": {},
   "outputs": [],
   "source": [
    "%matplotlib inline\n",
    "import matplotlib.pyplot as plt\n",
    "from sklearn.metrics import roc_curve, auc\n",
    "\n",
    "# Plot una matrix de confusión.\n",
    "# cm es la matrix de confusión, names son los nombres de las clases.\n",
    "def plot_confusion_matrix(cm, names, title='Confusion matrix', \n",
    "                            cmap=plt.cm.Blues):\n",
    "    plt.imshow(cm, interpolation='nearest', cmap=cmap)\n",
    "    plt.title(title)\n",
    "    plt.colorbar()\n",
    "    tick_marks = np.arange(len(names))\n",
    "    plt.xticks(tick_marks, names, rotation=45)\n",
    "    plt.yticks(tick_marks, names)\n",
    "    plt.tight_layout()\n",
    "    plt.ylabel('True label')\n",
    "    plt.xlabel('Predicted label')\n",
    "    \n",
    "\n",
    "# Plot una ROC. pred - the predicciones, y - la salida esperada.\n",
    "def plot_roc(pred,y):\n",
    "    fpr, tpr, _ = roc_curve(y, pred)\n",
    "    roc_auc = auc(fpr, tpr)\n",
    "\n",
    "    plt.figure()\n",
    "    plt.plot(fpr, tpr, label='ROC curve (area = %0.2f)' % roc_auc)\n",
    "    plt.plot([0, 1], [0, 1], 'k--')\n",
    "    plt.xlim([0.0, 1.0])\n",
    "    plt.ylim([0.0, 1.05])\n",
    "    plt.xlabel('False Positive Rate')\n",
    "    plt.ylabel('True Positive Rate')\n",
    "    plt.title('Receiver Operating Characteristic (ROC)')\n",
    "    plt.legend(loc=\"lower right\")\n",
    "    plt.show()"
   ]
  },
  {
   "cell_type": "markdown",
   "metadata": {},
   "source": [
    "### Ejemplo de gráfico de una curva ROC\n",
    "\n",
    "El siguiente código demuestra cómo implementar un gráfico ROC"
   ]
  },
  {
   "cell_type": "code",
   "execution_count": 8,
   "metadata": {},
   "outputs": [
    {
     "name": "stdout",
     "output_type": "stream",
     "text": [
      "Epoch 1/1000\n",
      "14/14 - 1s - loss: 0.6822 - accuracy: 0.8662 - val_loss: 0.6582 - val_accuracy: 0.9580 - 1s/epoch - 76ms/step\n",
      "Epoch 2/1000\n",
      "14/14 - 0s - loss: 0.6083 - accuracy: 0.9343 - val_loss: 0.5025 - val_accuracy: 0.9720 - 65ms/epoch - 5ms/step\n",
      "Epoch 3/1000\n",
      "14/14 - 0s - loss: 0.3826 - accuracy: 0.9413 - val_loss: 0.2066 - val_accuracy: 0.9720 - 63ms/epoch - 5ms/step\n",
      "Epoch 4/1000\n",
      "14/14 - 0s - loss: 0.1688 - accuracy: 0.9531 - val_loss: 0.0831 - val_accuracy: 0.9790 - 62ms/epoch - 4ms/step\n",
      "Epoch 5/1000\n",
      "14/14 - 0s - loss: 0.1006 - accuracy: 0.9695 - val_loss: 0.0583 - val_accuracy: 0.9790 - 68ms/epoch - 5ms/step\n",
      "Epoch 6/1000\n",
      "14/14 - 0s - loss: 0.0800 - accuracy: 0.9765 - val_loss: 0.0511 - val_accuracy: 0.9860 - 65ms/epoch - 5ms/step\n",
      "Epoch 7/1000\n",
      "14/14 - 0s - loss: 0.0698 - accuracy: 0.9789 - val_loss: 0.0521 - val_accuracy: 0.9860 - 61ms/epoch - 4ms/step\n",
      "Epoch 8/1000\n",
      "14/14 - 0s - loss: 0.0632 - accuracy: 0.9789 - val_loss: 0.0471 - val_accuracy: 0.9930 - 66ms/epoch - 5ms/step\n",
      "Epoch 9/1000\n",
      "14/14 - 0s - loss: 0.0591 - accuracy: 0.9859 - val_loss: 0.0458 - val_accuracy: 0.9860 - 67ms/epoch - 5ms/step\n",
      "Epoch 10/1000\n",
      "14/14 - 0s - loss: 0.0534 - accuracy: 0.9859 - val_loss: 0.0460 - val_accuracy: 0.9860 - 62ms/epoch - 4ms/step\n",
      "Epoch 11/1000\n",
      "14/14 - 0s - loss: 0.0471 - accuracy: 0.9836 - val_loss: 0.0553 - val_accuracy: 0.9860 - 65ms/epoch - 5ms/step\n",
      "Epoch 12/1000\n",
      "14/14 - 0s - loss: 0.0448 - accuracy: 0.9836 - val_loss: 0.0503 - val_accuracy: 0.9860 - 63ms/epoch - 5ms/step\n",
      "Epoch 13/1000\n",
      "14/14 - 0s - loss: 0.0398 - accuracy: 0.9883 - val_loss: 0.0527 - val_accuracy: 0.9860 - 63ms/epoch - 5ms/step\n",
      "Epoch 14/1000\n",
      "Restoring model weights from the end of the best epoch: 9.\n",
      "14/14 - 0s - loss: 0.0368 - accuracy: 0.9906 - val_loss: 0.0537 - val_accuracy: 0.9860 - 66ms/epoch - 5ms/step\n",
      "Epoch 00014: early stopping\n"
     ]
    },
    {
     "data": {
      "text/plain": [
       "<keras.callbacks.History at 0x1c48ea6cf08>"
      ]
     },
     "execution_count": 8,
     "metadata": {},
     "output_type": "execute_result"
    }
   ],
   "source": [
    "# Red neuronal de Clasificación\n",
    "import numpy as np\n",
    "import tensorflow.keras\n",
    "from tensorflow.keras.models import Sequential\n",
    "from tensorflow.keras.layers import Dense, Activation\n",
    "from tensorflow.keras.callbacks import EarlyStopping\n",
    "from sklearn.model_selection import train_test_split\n",
    "\n",
    "# Dividir en train/test\n",
    "x_train, x_test, y_train, y_test = train_test_split(    \n",
    "    x, y, test_size=0.25, random_state=42)\n",
    "\n",
    "model = Sequential()\n",
    "model.add(Dense(100, input_dim=x.shape[1], activation='relu',\n",
    "                kernel_initializer='random_normal'))\n",
    "model.add(Dense(50,activation='relu',kernel_initializer='random_normal'))\n",
    "model.add(Dense(25,activation='relu',kernel_initializer='random_normal'))\n",
    "model.add(Dense(1,activation='sigmoid',kernel_initializer='random_normal'))\n",
    "model.compile(loss='binary_crossentropy', \n",
    "              optimizer=tensorflow.keras.optimizers.Adam(),\n",
    "              metrics =['accuracy'])\n",
    "monitor = EarlyStopping(monitor='val_loss', min_delta=1e-3, \n",
    "    patience=5, verbose=1, mode='auto', restore_best_weights=True)\n",
    "\n",
    "model.fit(x_train,y_train,validation_data=(x_test,y_test),\n",
    "          callbacks=[monitor],verbose=2,epochs=1000)\n"
   ]
  },
  {
   "cell_type": "code",
   "execution_count": 9,
   "metadata": {},
   "outputs": [
    {
     "data": {
      "image/png": "[encoded data removed]",
      "text/plain": [
       "<Figure size 432x288 with 1 Axes>"
      ]
     },
     "metadata": {
      "needs_background": "light"
     },
     "output_type": "display_data"
    }
   ],
   "source": [
    "pred = model.predict(x_test)\n",
    "plot_roc(pred,y_test)"
   ]
  },
  {
   "cell_type": "markdown",
   "metadata": {},
   "source": [
    "### Métricas de error de clasificación multiclase\n",
    "\n",
    "Si desea predecir más de un resultado, necesitará más de una neurona de salida. Debido a que una sola neurona puede predecir dos resultados, una red neuronal con dos neuronas de salida es algo rara. Si hay tres o más resultados, habrá tres o más neuronas de salida. Las siguientes secciones examinarán varias métricas para evaluar el error de clasificación. La siguiente red neuronal de clasificación se utilizará para evaluar."
   ]
  },
  {
   "cell_type": "code",
   "execution_count": 10,
   "metadata": {},
   "outputs": [],
   "source": [
    "import pandas as pd\n",
    "from scipy.stats import zscore\n",
    "\n",
    "# Leer el dataset\n",
    "df = pd.read_csv(\n",
    "    \"https://data.heatonresearch.com/data/t81-558/jh-simple-dataset.csv\",\n",
    "    na_values=['NA','?'])\n",
    "\n",
    "# Generar dummies para 'job'\n",
    "df = pd.concat([df,pd.get_dummies(df['job'],prefix=\"job\")],axis=1)\n",
    "df.drop('job', axis=1, inplace=True)\n",
    "\n",
    "# Generar dummies para 'area'\n",
    "df = pd.concat([df,pd.get_dummies(df['area'],prefix=\"area\")],axis=1)\n",
    "df.drop('area', axis=1, inplace=True)\n",
    "\n",
    "# Tratar Missing values en income\n",
    "med = df['income'].median()\n",
    "df['income'] = df['income'].fillna(med)\n",
    "\n",
    "# Estandarizar rangos\n",
    "df['income'] = zscore(df['income'])\n",
    "df['aspect'] = zscore(df['aspect'])\n",
    "df['save_rate'] = zscore(df['save_rate'])\n",
    "df['age'] = zscore(df['age'])\n",
    "df['subscriptions'] = zscore(df['subscriptions'])\n",
    "\n",
    "# Convertir a numpy - Clasificación\n",
    "x_columns = df.columns.drop('product').drop('id')\n",
    "x = df[x_columns].values\n",
    "dummies = pd.get_dummies(df['product']) # Clasificación\n",
    "products = dummies.columns\n",
    "y = dummies.values"
   ]
  },
  {
   "cell_type": "code",
   "execution_count": 11,
   "metadata": {},
   "outputs": [
    {
     "name": "stdout",
     "output_type": "stream",
     "text": [
      "Epoch 1/1000\n",
      "47/47 - 1s - loss: 1.5147 - accuracy: 0.3840 - val_loss: 1.1319 - val_accuracy: 0.4980 - 574ms/epoch - 12ms/step\n",
      "Epoch 2/1000\n",
      "47/47 - 0s - loss: 1.1213 - accuracy: 0.4787 - val_loss: 1.0621 - val_accuracy: 0.5100 - 158ms/epoch - 3ms/step\n",
      "Epoch 3/1000\n",
      "47/47 - 0s - loss: 1.0031 - accuracy: 0.5553 - val_loss: 0.9449 - val_accuracy: 0.6420 - 176ms/epoch - 4ms/step\n",
      "Epoch 4/1000\n",
      "47/47 - 0s - loss: 0.8700 - accuracy: 0.6553 - val_loss: 0.8572 - val_accuracy: 0.6840 - 167ms/epoch - 4ms/step\n",
      "Epoch 5/1000\n",
      "47/47 - 0s - loss: 0.8030 - accuracy: 0.6813 - val_loss: 0.8240 - val_accuracy: 0.6780 - 168ms/epoch - 4ms/step\n",
      "Epoch 6/1000\n",
      "47/47 - 0s - loss: 0.7758 - accuracy: 0.6907 - val_loss: 0.8104 - val_accuracy: 0.6760 - 168ms/epoch - 4ms/step\n",
      "Epoch 7/1000\n",
      "47/47 - 0s - loss: 0.7677 - accuracy: 0.6767 - val_loss: 0.7894 - val_accuracy: 0.6820 - 181ms/epoch - 4ms/step\n",
      "Epoch 8/1000\n",
      "47/47 - 0s - loss: 0.7350 - accuracy: 0.6933 - val_loss: 0.7839 - val_accuracy: 0.6840 - 176ms/epoch - 4ms/step\n",
      "Epoch 9/1000\n",
      "47/47 - 0s - loss: 0.7208 - accuracy: 0.6973 - val_loss: 0.7928 - val_accuracy: 0.6720 - 161ms/epoch - 3ms/step\n",
      "Epoch 10/1000\n",
      "47/47 - 0s - loss: 0.7088 - accuracy: 0.7087 - val_loss: 0.7767 - val_accuracy: 0.6780 - 165ms/epoch - 4ms/step\n",
      "Epoch 11/1000\n",
      "47/47 - 0s - loss: 0.7108 - accuracy: 0.6967 - val_loss: 0.7730 - val_accuracy: 0.6880 - 164ms/epoch - 3ms/step\n",
      "Epoch 12/1000\n",
      "47/47 - 0s - loss: 0.6950 - accuracy: 0.6973 - val_loss: 0.7592 - val_accuracy: 0.6800 - 162ms/epoch - 3ms/step\n",
      "Epoch 13/1000\n",
      "47/47 - 0s - loss: 0.6895 - accuracy: 0.7033 - val_loss: 0.7731 - val_accuracy: 0.6660 - 159ms/epoch - 3ms/step\n",
      "Epoch 14/1000\n",
      "47/47 - 0s - loss: 0.6835 - accuracy: 0.7047 - val_loss: 0.7747 - val_accuracy: 0.6680 - 158ms/epoch - 3ms/step\n",
      "Epoch 15/1000\n",
      "47/47 - 0s - loss: 0.6775 - accuracy: 0.7133 - val_loss: 0.7482 - val_accuracy: 0.6820 - 161ms/epoch - 3ms/step\n",
      "Epoch 16/1000\n",
      "47/47 - 0s - loss: 0.6717 - accuracy: 0.7053 - val_loss: 0.7427 - val_accuracy: 0.6980 - 159ms/epoch - 3ms/step\n",
      "Epoch 17/1000\n",
      "47/47 - 0s - loss: 0.6615 - accuracy: 0.7113 - val_loss: 0.7482 - val_accuracy: 0.6840 - 158ms/epoch - 3ms/step\n",
      "Epoch 18/1000\n",
      "47/47 - 0s - loss: 0.6631 - accuracy: 0.7247 - val_loss: 0.7716 - val_accuracy: 0.6620 - 166ms/epoch - 4ms/step\n",
      "Epoch 19/1000\n",
      "47/47 - 0s - loss: 0.6554 - accuracy: 0.7253 - val_loss: 0.7486 - val_accuracy: 0.6980 - 164ms/epoch - 3ms/step\n",
      "Epoch 20/1000\n",
      "47/47 - 0s - loss: 0.6441 - accuracy: 0.7253 - val_loss: 0.7492 - val_accuracy: 0.6880 - 165ms/epoch - 4ms/step\n",
      "Epoch 21/1000\n",
      "47/47 - 0s - loss: 0.6411 - accuracy: 0.7293 - val_loss: 0.7390 - val_accuracy: 0.7080 - 162ms/epoch - 3ms/step\n",
      "Epoch 22/1000\n",
      "47/47 - 0s - loss: 0.6411 - accuracy: 0.7253 - val_loss: 0.7526 - val_accuracy: 0.6780 - 159ms/epoch - 3ms/step\n",
      "Epoch 23/1000\n",
      "47/47 - 0s - loss: 0.6335 - accuracy: 0.7380 - val_loss: 0.7647 - val_accuracy: 0.6780 - 156ms/epoch - 3ms/step\n",
      "Epoch 24/1000\n",
      "47/47 - 0s - loss: 0.6388 - accuracy: 0.7313 - val_loss: 0.7488 - val_accuracy: 0.6920 - 156ms/epoch - 3ms/step\n",
      "Epoch 25/1000\n",
      "47/47 - 0s - loss: 0.6317 - accuracy: 0.7260 - val_loss: 0.7628 - val_accuracy: 0.6740 - 158ms/epoch - 3ms/step\n",
      "Epoch 26/1000\n",
      "Restoring model weights from the end of the best epoch: 21.\n",
      "47/47 - 0s - loss: 0.6450 - accuracy: 0.7207 - val_loss: 0.7494 - val_accuracy: 0.6940 - 159ms/epoch - 3ms/step\n",
      "Epoch 00026: early stopping\n"
     ]
    },
    {
     "data": {
      "text/plain": [
       "<keras.callbacks.History at 0x1c49fe80f48>"
      ]
     },
     "execution_count": 11,
     "metadata": {},
     "output_type": "execute_result"
    }
   ],
   "source": [
    "# Red neuronal de Clasificación\n",
    "import numpy as np\n",
    "import tensorflow.keras\n",
    "from tensorflow.keras.models import Sequential\n",
    "from tensorflow.keras.layers import Dense, Activation\n",
    "from tensorflow.keras.callbacks import EarlyStopping\n",
    "from sklearn.model_selection import train_test_split\n",
    "\n",
    "# Dividir en train/test\n",
    "x_train, x_test, y_train, y_test = train_test_split(    \n",
    "    x, y, test_size=0.25, random_state=42)\n",
    "\n",
    "model = Sequential()\n",
    "model.add(Dense(100, input_dim=x.shape[1], activation='relu',\n",
    "                kernel_initializer='random_normal'))\n",
    "model.add(Dense(50,activation='relu',kernel_initializer='random_normal'))\n",
    "model.add(Dense(25,activation='relu',kernel_initializer='random_normal'))\n",
    "model.add(Dense(y.shape[1],activation='softmax',\n",
    "                kernel_initializer='random_normal'))\n",
    "model.compile(loss='categorical_crossentropy', \n",
    "              optimizer=tensorflow.keras.optimizers.Adam(),\n",
    "              metrics =['accuracy'])\n",
    "monitor = EarlyStopping(monitor='val_loss', min_delta=1e-3, patience=5, \n",
    "                        verbose=1, mode='auto', restore_best_weights=True)\n",
    "model.fit(x_train,y_train,validation_data=(x_test,y_test),\n",
    "          callbacks=[monitor],verbose=2,epochs=1000)\n"
   ]
  },
  {
   "cell_type": "markdown",
   "metadata": {},
   "source": [
    "### Calcular la precisión de clasificación\n",
    " \n",
    "La precisión es el número de filas donde la red neuronal predijo correctamente la clase objetivo. La precisión solo se usa para la clasificación, no para la regresión.\n",
    "\n",
    "$$ precisión = \\frac{c}{N} $$\n",
    "\n",
    "Donde $c$ es el número correcto y $N$ es el tamaño del conjunto evaluado (entrenamiento o validación). Se desean números de mayor precisión.\n",
    "\n",
    "Como acabamos de ver, por defecto, Keras devolverá el porcentaje de probabilidad para cada clase. Podemos cambiar estas probabilidades de predicción en el iris real predicho con **argmax**."
   ]
  },
  {
   "cell_type": "code",
   "execution_count": 12,
   "metadata": {},
   "outputs": [],
   "source": [
    "pred = model.predict(x_test)\n",
    "pred = np.argmax(pred,axis=1) \n",
    "# probabilidades brutas a la clase elegida (probabilidad más alta)"
   ]
  },
  {
   "cell_type": "markdown",
   "metadata": {},
   "source": [
    "Ahora que hemos predicho la flor real del iris, podemos calcular el porcentaje de precisión (cuántos se clasificaron correctamente)."
   ]
  },
  {
   "cell_type": "code",
   "execution_count": 13,
   "metadata": {},
   "outputs": [
    {
     "name": "stdout",
     "output_type": "stream",
     "text": [
      "Accuracy score: 0.708\n"
     ]
    }
   ],
   "source": [
    "from sklearn import metrics\n",
    "\n",
    "y_compare = np.argmax(y_test,axis=1) \n",
    "score = metrics.accuracy_score(y_compare, pred)\n",
    "print(\"Accuracy score: {}\".format(score))"
   ]
  },
  {
   "cell_type": "markdown",
   "metadata": {},
   "source": [
    "### Calcular Log Loss en Clasificación\n",
    "\n",
    "La precisión es como un examen final sin crédito parcial. Sin embargo, las redes neuronales pueden predecir una probabilidad de cada una de las clases objetivo. Las redes neuronales darán altas probabilidades a las predicciones que son más probables. La pérdida de registro es una métrica de error que penaliza la confianza en las respuestas incorrectas. Se desean valores de pérdida logarítmica más bajos.\n",
    "\n",
    "El siguiente código muestra la salida de predict_proba:\n"
   ]
  },
  {
   "cell_type": "code",
   "execution_count": 14,
   "metadata": {},
   "outputs": [
    {
     "name": "stdout",
     "output_type": "stream",
     "text": [
      "Numpy array de predicciones\n"
     ]
    },
    {
     "data": {
      "text/plain": [
       "array([[0.    , 0.0926, 0.7774, 0.1291, 0.001 , 0.    , 0.    ],\n",
       "       [0.    , 0.7306, 0.268 , 0.    , 0.0013, 0.    , 0.    ],\n",
       "       [0.    , 0.7574, 0.2364, 0.0001, 0.006 , 0.0001, 0.    ],\n",
       "       [0.    , 0.3321, 0.6581, 0.0064, 0.0033, 0.    , 0.    ],\n",
       "       [0.    , 0.016 , 0.5375, 0.4464, 0.0001, 0.    , 0.    ]],\n",
       "      dtype=float32)"
      ]
     },
     "metadata": {},
     "output_type": "display_data"
    },
    {
     "name": "stdout",
     "output_type": "stream",
     "text": [
      "Como porcentaje de probabilidad\n",
      "[ 0.      9.2557 77.7405 12.9061  0.0974  0.0003  0.    ]\n",
      "Log loss score: 0.7390038914233447\n"
     ]
    }
   ],
   "source": [
    "from IPython.display import display\n",
    "\n",
    "# No mostrar numpy en notación científica\n",
    "np.set_printoptions(precision=4)\n",
    "np.set_printoptions(suppress=True)\n",
    "\n",
    "# Generar predicciones\n",
    "pred = model.predict(x_test)\n",
    "\n",
    "print(\"Numpy array de predicciones\")\n",
    "display(pred[0:5])\n",
    "\n",
    "print(\"Como porcentaje de probabilidad\")\n",
    "print(pred[0]*100)\n",
    "\n",
    "score = metrics.log_loss(y_test, pred)\n",
    "print(\"Log loss score: {}\".format(score))\n",
    "\n",
    "# probabilidades brutas a la clase elegida (probabilidad más alta)\n",
    "pred = np.argmax(pred,axis=1) "
   ]
  },
  {
   "cell_type": "markdown",
   "metadata": {},
   "source": [
    "[Log loss](https://www.kaggle.com/wiki/LogarithmicLoss) se calcula de la siguiente manera:\n",
    "\n",
    "$$ {log loss} = -\\frac{1}{N}\\sum_{i=1}^N {( {y}_i\\log(\\hat{y}_i) + (1 - {y}_i)\\log(1 - \\hat{y}_i))} $$\n",
    "\n",
    "\n",
    "Debe usar esta ecuación solo como una función objetivo para las clasificaciones que tienen dos resultados. La variable y-hat es la predicción de la red neuronal y la variable y es la respuesta correcta conocida. En este caso, y siempre será 0 o 1. Los datos de entrenamiento no tienen probabilidades. La red neuronal lo clasifica en una clase (1) o en otra (0).\n",
    "\n",
    "La variable N representa el número de elementos en el conjunto de entrenamiento el número de preguntas en la prueba. Dividimos por N porque este proceso es habitual para un promedio. También comenzamos la ecuación con un negativo porque la función logarítmica siempre es negativa en el dominio de 0 a 1. Esta negación permite minimizar un puntaje positivo para el entrenamiento.\n",
    "\n",
    "Notarás que dos términos están separados por la suma (+). Cada uno contiene una función de registro. Debido a que y será 0 o 1, entonces uno de estos dos términos se cancelará en 0. Si y es 0, entonces el primer término se reducirá a 0. Si y es 1, entonces el segundo término será 0.\n",
    "\n",
    "Si su predicción para la primera clase de una predicción de dos clases es y-hat, entonces su predicción para la segunda clase es 1 menos y-hat. Esencialmente, si su predicción para la clase A es del 70 % (0,7), entonces su predicción para la clase B es del 30 % (0,3). Su puntaje aumentará según el registro de su predicción para la clase correcta. Si la red neuronal hubiera predicho 1,0 para la clase A y la respuesta correcta fuera A, su puntaje aumentaría en log (1), que es 0. Para la pérdida de log, buscamos un puntaje bajo, por lo que una respuesta correcta da como resultado 0. Algunos de estos valores de registro para la estimación de probabilidad de una red neuronal para la clase correcta:\n",
    "\n",
    "* -log(1.0) = 0\n",
    "* -log(0.95) = 0.02\n",
    "* -log(0.9) = 0.05\n",
    "* -log(0.8) = 0.1\n",
    "* -log(0.5) = 0.3\n",
    "* -log(0.1) = 1\n",
    "* -log(0.01) = 2\n",
    "* -log(1.0e-12) = 12\n",
    "* -log(0.0) = negative infinity\n",
    "\n",
    "Como puede ver, dar una confianza baja a la respuesta correcta afecta más la puntuación. Debido a que log (0) es infinito negativo, normalmente imponemos un valor mínimo. Por supuesto, los valores de registro anteriores son para un solo elemento del conjunto de entrenamiento. Promediaremos los valores de registro para todo el conjunto de entrenamiento.\n",
    "\n",
    "La función log es útil para penalizar las respuestas incorrectas. El siguiente código demuestra la utilidad de la función de registro:"
   ]
  },
  {
   "cell_type": "code",
   "execution_count": 16,
   "metadata": {},
   "outputs": [
    {
     "name": "stderr",
     "output_type": "stream",
     "text": [
      "C:\\Users\\jamr1\\AppData\\Roaming\\Python\\Python37\\site-packages\\ipykernel_launcher.py:12: RuntimeWarning: divide by zero encountered in log\n",
      "  if sys.path[0] == '':\n"
     ]
    },
    {
     "data": {
      "image/png": "[encoded data removed]",
      "text/plain": [
       "<Figure size 864x720 with 1 Axes>"
      ]
     },
     "metadata": {
      "needs_background": "light"
     },
     "output_type": "display_data"
    }
   ],
   "source": [
    "%matplotlib inline\n",
    "from matplotlib.pyplot import figure, show\n",
    "from numpy import arange, sin, pi\n",
    "\n",
    "#t = arange(1e-5, 5.0, 0.00001)\n",
    "#t = arange(1.0, 5.0, 0.00001) # computer scientists\n",
    "t = arange(0.0, 1.0, 0.00001)  # data     scientists\n",
    "\n",
    "fig = figure(1,figsize=(12, 10))\n",
    "\n",
    "ax1 = fig.add_subplot(211)\n",
    "ax1.plot(t, np.log(t))\n",
    "ax1.grid(True)\n",
    "ax1.set_ylim((-8, 1.5))\n",
    "ax1.set_xlim((-0.1, 2))\n",
    "ax1.set_xlabel('x')\n",
    "ax1.set_ylabel('y')\n",
    "ax1.set_title('log(x)')\n",
    "\n",
    "show();"
   ]
  },
  {
   "cell_type": "code",
   "execution_count": 17,
   "metadata": {},
   "outputs": [
    {
     "name": "stdout",
     "output_type": "stream",
     "text": [
      "Matrix de confusión, sin normalizar\n",
      "[[ 21   1   0   0   0   0   0]\n",
      " [  4 192  53   0   0   0   0]\n",
      " [  0  48 136   3   0   0   0]\n",
      " [  0   0   9   5   0   0   0]\n",
      " [  0   8   0   0   0   0   0]\n",
      " [ 10   7   0   0   0   0   0]\n",
      " [  3   0   0   0   0   0   0]]\n",
      "Matrix de confusión normalizada\n",
      "[[0.95 0.05 0.   0.   0.   0.   0.  ]\n",
      " [0.02 0.77 0.21 0.   0.   0.   0.  ]\n",
      " [0.   0.26 0.73 0.02 0.   0.   0.  ]\n",
      " [0.   0.   0.64 0.36 0.   0.   0.  ]\n",
      " [0.   1.   0.   0.   0.   0.   0.  ]\n",
      " [0.59 0.41 0.   0.   0.   0.   0.  ]\n",
      " [1.   0.   0.   0.   0.   0.   0.  ]]\n"
     ]
    },
    {
     "data": {
      "image/png": "[encoded data removed]",
      "text/plain": [
       "<Figure size 432x288 with 2 Axes>"
      ]
     },
     "metadata": {
      "needs_background": "light"
     },
     "output_type": "display_data"
    },
    {
     "data": {
      "image/png": "[encoded data removed]",
      "text/plain": [
       "<Figure size 432x288 with 2 Axes>"
      ]
     },
     "metadata": {
      "needs_background": "light"
     },
     "output_type": "display_data"
    }
   ],
   "source": [
    "import numpy as np\n",
    "from sklearn import svm, datasets\n",
    "from sklearn.model_selection import train_test_split\n",
    "from sklearn.metrics import confusion_matrix\n",
    "\n",
    "# Calcular matrix de confusión\n",
    "cm = confusion_matrix(y_compare, pred)\n",
    "np.set_printoptions(precision=2)\n",
    "print('Matrix de confusión, sin normalizar')\n",
    "print(cm)\n",
    "plt.figure()\n",
    "plot_confusion_matrix(cm, products)\n",
    "\n",
    "# Normalizando la matrix de confusión por filas\n",
    "cm_normalized = cm.astype('float') / cm.sum(axis=1)[:, np.newaxis]\n",
    "print('Matrix de confusión normalizada')\n",
    "print(cm_normalized)\n",
    "plt.figure()\n",
    "plot_confusion_matrix(cm_normalized, products, \n",
    "        title='Matrix de confusión normalizada')\n",
    "\n",
    "plt.show()"
   ]
  }
 ],
 "metadata": {
  "anaconda-cloud": {},
  "interpreter": {
   "hash": "129c28eb7371f81f3b772b69408a02d1e141a0d5c957c78df09fa0d1b2bc4f41"
  },
  "kernelspec": {
   "display_name": "Python 3.9 (tensorflow)",
   "language": "python",
   "name": "python3"
  },
  "language_info": {
   "codemirror_mode": {
    "name": "ipython",
    "version": 3
   },
   "file_extension": ".py",
   "mimetype": "text/x-python",
   "name": "python",
   "nbconvert_exporter": "python",
   "pygments_lexer": "ipython3",
   "version": "3.7.4"
  }
 },
 "nbformat": 4,
 "nbformat_minor": 4
}
