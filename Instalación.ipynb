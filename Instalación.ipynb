{
 "cells": [
  {
   "cell_type": "markdown",
   "metadata": {},
   "source": [
    "# Data Science con Python\n",
    "\n",
    "* Instructor: [Juan Maniglia](https://juanmaniglia.github.io)"
   ]
  },
  {
   "cell_type": "markdown",
   "metadata": {},
   "source": [
    "# Instalación de Software\n",
    "\n",
    "* Instalar Python, TensorFlow Visual Studio Code\n",
    "\n",
    "## Instalar Python, TensorFlow, Jupyter...\n",
    "\n",
    "El primer paso es instalar Python 3.7.x \n",
    "\n",
    "* [Python](https://www.python.org/downloads/)\n",
    "\n",
    "* [Jupyter] **pip install jupyter**\n",
    "\n",
    "* [Librerias] \n",
    "- pip install tensorflow\n",
    "- pip install scipy\n",
    "- pip install sklearn\n",
    "- pip install pandas\n",
    "- pip install pandas-datareader\n",
    "- pip install matplotlib\n",
    "- pip install pillow\n",
    "- pip install tqdm\n",
    "- pip install requests\n",
    "- pip install h5py\n",
    "- pip install pyyaml\n",
    "- pip install tensorflow_hub\n",
    "- pip install bayesian-optimization\n",
    "- pip install spacy\n",
    "- pip install gensim\n",
    "- pip install flask\n",
    "- pip install boto3\n",
    "- pip install gym\n",
    "- pip install numpy\n",
    "- pip install keras-rl2 --user\n",
    "- pip ipykernel install --user\n"
   ]
  },
  {
   "cell_type": "markdown",
   "metadata": {},
   "source": [
    "Verificamos que esten instaladas las librerias y si trabajamos con la GPU"
   ]
  },
  {
   "cell_type": "code",
   "execution_count": 2,
   "metadata": {},
   "outputs": [
    {
     "name": "stdout",
     "output_type": "stream",
     "text": [
      "Tensor Flow Version: 2.7.0\n",
      "Keras Version: 2.7.0\n",
      "\n",
      "Python 3.7.4 (tags/v3.7.4:e09359112e, Jul  8 2019, 20:34:20) [MSC v.1916 64 bit (AMD64)]\n",
      "Pandas 1.3.5\n",
      "Scikit-Learn 1.0.2\n",
      "GPU is available\n"
     ]
    }
   ],
   "source": [
    "import sys\n",
    "\n",
    "import tensorflow.keras\n",
    "import pandas as pd\n",
    "import sklearn as sk\n",
    "import tensorflow as tf\n",
    "\n",
    "print(f\"Tensor Flow Version: {tf.__version__}\")\n",
    "print(f\"Keras Version: {tensorflow.keras.__version__}\")\n",
    "print()\n",
    "print(f\"Python {sys.version}\")\n",
    "print(f\"Pandas {pd.__version__}\")\n",
    "print(f\"Scikit-Learn {sk.__version__}\")\n",
    "print(\"GPU is\", \"available\" if tf.config.list_physical_devices('GPU') else \"NOT AVAILABLE\")"
   ]
  },
  {
   "cell_type": "markdown",
   "metadata": {},
   "source": [
    "#### Para poder hacer cálculos con la GPU debemos instalar CUDA y cuDNN (debemos tener una tarjeta gráfica NVIDIA)\n",
    "\n",
    "- Instalar [NVIDIA Driver](https://nvidia.com/Download/index.aspx)\n",
    "- Instalar [Visual Studio](https://visualstudio.microsoft.com/es/thank-you-downloading-visual-studio/?sku=Community&rel=17)\n",
    "    - Seleccionar:\n",
    "        - Python development\n",
    "        - Desktop development with C++\n",
    "        - Data storage and processing\n",
    "        - Data science and analytical applications\n",
    "- Instalar [CUDA Toolkit v11.5](https://developer.nvidia.com/cuda-11-5-1-download-archive?target_os=Windows&target_arch=x86_64&target_version=10&target_type=exe_network)\n",
    "- Descargar [cuDNN v8.3.1](https://developer.nvidia.com/compute/cudnn/secure/8.3.1/local_installers/11.5/cudnn-windows-x86_64-8.3.1.22_cuda11.5-archive.zip)\n",
    "    - Crear una carpeta en 'C:/' con el nombre de 'tools'\n",
    "    - Descomprimir el archivo descargado en esta carpeta\n",
    "    - En Windows.\n",
    "        - Ir a Editar las variables de entorno del sistema\n",
    "        - Selecionar variables de entorno\n",
    "        - Buscar en variables del sistema 'Path'\n",
    "        - Agregar con el boton de nuevo los siguientes paths\n",
    "        \n",
    "            - C:\\Program Files\\NVIDIA GPU Computing Toolkit\\CUDA\\v11.5\\extras\\CUPTI\\lib64\n",
    "            - C:\\Program Files\\NVIDIA GPU Computing Toolkit\\CUDA\\v11.5\\extras\\CUPTI\\include\n",
    "            - C:\\tools\\cudnn-windows-x86_64-8.3.1.22_cuda11.5-archive\\bin\n",
    "            - C:\\tools\\cudnn-windows-x86_64-8.3.1.22_cuda11.5-archive\\include\n"
   ]
  }
 ],
 "metadata": {
  "anaconda-cloud": {},
  "interpreter": {
   "hash": "129c28eb7371f81f3b772b69408a02d1e141a0d5c957c78df09fa0d1b2bc4f41"
  },
  "kernelspec": {
   "display_name": "Python 3.7 (tensorflow)",
   "language": "python",
   "name": "python3"
  },
  "language_info": {
   "codemirror_mode": {
    "name": "ipython",
    "version": 3
   },
   "file_extension": ".py",
   "mimetype": "text/x-python",
   "name": "python",
   "nbconvert_exporter": "python",
   "pygments_lexer": "ipython3",
   "version": "3.7.4"
  }
 },
 "nbformat": 4,
 "nbformat_minor": 4
}
