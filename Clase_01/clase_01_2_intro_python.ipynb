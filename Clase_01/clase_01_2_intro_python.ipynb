{
 "cells": [
  {
   "cell_type": "markdown",
   "metadata": {},
   "source": [
    "**Modulo 1: Python**\n",
    "* Instructor: [Juan Maniglia](https://juanmaniglia.github.io)"
   ]
  },
  {
   "cell_type": "markdown",
   "metadata": {},
   "source": [
    "# Parte 1.2: Introducción a Python\n",
    "\n",
    "Python es un lenguaje de programación interpretado, de alto nivel y de propósito general. Creado por Guido van Rossum y lanzado por primera vez en 1991, la filosofía de diseño de Python enfatiza la legibilidad del código con su notable uso de espacios en blanco significativos. Sus construcciones de lenguaje y su enfoque orientado a objetos tienen como objetivo ayudar a los programadores a escribir código claro y lógico para proyectos de pequeña y gran escala. Python se ha convertido en un lenguaje común para la investigación del aprendizaje automático y es el lenguaje principal de TensorFlow.\n",
    "\n",
    "Los primeros dos módulos de este curso brindan una introducción a algunos aspectos del lenguaje de programación Python. Sin embargo, libros enteros se enfocan en Python. Dos módulos no cubrirán todos los detalles.\n",
    "\n",
    "Como la mayoría de los tutoriales, comenzaremos con Hello World."
   ]
  },
  {
   "cell_type": "code",
   "execution_count": 3,
   "metadata": {},
   "outputs": [
    {
     "name": "stdout",
     "output_type": "stream",
     "text": [
      "Hello World\n"
     ]
    }
   ],
   "source": [
    "print(\"Hello World\")"
   ]
  },
  {
   "cell_type": "markdown",
   "metadata": {},
   "source": [
    "El código anterior pasa un string que contiene el texto \"hola mundo\" a una función que se llama print.\n",
    "\n",
    "También puede dejar comentarios en su código para explicar lo que está haciendo. Los comentarios pueden comenzar en cualquier lugar de una línea."
   ]
  },
  {
   "cell_type": "code",
   "execution_count": 2,
   "metadata": {},
   "outputs": [
    {
     "name": "stdout",
     "output_type": "stream",
     "text": [
      "Hello World\n"
     ]
    }
   ],
   "source": [
    "# Comentario de una sola línea (esto no tiene efecto en el programa)\n",
    "print(\"Hello World\") # di hello"
   ]
  },
  {
   "cell_type": "markdown",
   "metadata": {},
   "source": [
    "Los Strings son muy versátiles y permiten que su programa procese información textual. 'String', entre comillas, define valores de cadena literales dentro de su programa. A veces, es posible que desee definir una mayor cantidad de texto literal dentro de su programa. Este texto puede constar de varias líneas. La comilla triple permite múltiples líneas de texto."
   ]
  },
  {
   "cell_type": "code",
   "execution_count": 1,
   "metadata": {},
   "outputs": [
    {
     "name": "stdout",
     "output_type": "stream",
     "text": [
      "Print\n",
      "Multiples\n",
      "Lineas\n",
      "\n"
     ]
    }
   ],
   "source": [
    "print(\"\"\"Print\n",
    "Multiples\n",
    "Lineas\n",
    "\"\"\")"
   ]
  },
  {
   "cell_type": "markdown",
   "metadata": {},
   "source": [
    "Además de cadenas, Python permite números como constantes literales en los programas. Python incluye soporte para números de punto flotante, enteros, complejos y otros tipos de números.\n",
    "\n",
    "La presencia de un punto decimal diferencia los números enteros y de punto flotante. Por ejemplo, el valor 42 es un número entero. De manera similar, 42.5 es un número de coma flotante. Si desea tener un número de punto flotante, sin una parte fraccionaria, debe especificar una fracción cero. El valor 42.0 es un número de punto flotante, aunque no tiene parte fraccionaria."
   ]
  },
  {
   "cell_type": "code",
   "execution_count": 4,
   "metadata": {},
   "outputs": [
    {
     "name": "stdout",
     "output_type": "stream",
     "text": [
      "42\n",
      "42.5\n"
     ]
    }
   ],
   "source": [
    "print(42)\n",
    "print(42.5)"
   ]
  },
  {
   "cell_type": "markdown",
   "metadata": {},
   "source": [
    "Hasta ahora, solo hemos visto cómo definir valores numéricos y de cadena literales. Estos valores literales son constantes y no cambian a medida que se ejecuta su programa. Las variables permiten que su programa contenga valores que pueden cambiar a medida que se ejecuta el programa. Las variables tienen nombres que le permiten hacer referencia a sus valores. El siguiente código asigna un valor entero a una variable denominada \"a\" y un valor de cadena a una variable denominada \"b\"."
   ]
  },
  {
   "cell_type": "code",
   "execution_count": 6,
   "metadata": {},
   "outputs": [
    {
     "name": "stdout",
     "output_type": "stream",
     "text": [
      "10\n",
      "diez\n"
     ]
    }
   ],
   "source": [
    "a = 10\n",
    "b = \"diez\"\n",
    "print(a)\n",
    "print(b)"
   ]
  },
  {
   "cell_type": "markdown",
   "metadata": {},
   "source": [
    "La característica clave de las variables es que pueden cambiar. El código siguiente muestra cómo cambiar los valores que tienen las variables."
   ]
  },
  {
   "cell_type": "code",
   "execution_count": 7,
   "metadata": {},
   "outputs": [
    {
     "name": "stdout",
     "output_type": "stream",
     "text": [
      "10\n",
      "11\n"
     ]
    }
   ],
   "source": [
    "a = 10\n",
    "print(a)\n",
    "a = a + 1\n",
    "print(a)"
   ]
  },
  {
   "cell_type": "markdown",
   "metadata": {},
   "source": [
    "Puede mezclar cadenas y variables para imprimir. Esta técnica se denomina cadena formateada o interpolada. Las variables deben estar dentro de las llaves. En Python, este tipo de cadena generalmente se denomina f-string se denota colocando una \"f\" justo delante de la comilla simple o doble de apertura que comienza la cadena."
   ]
  },
  {
   "cell_type": "code",
   "execution_count": 9,
   "metadata": {},
   "outputs": [
    {
     "name": "stdout",
     "output_type": "stream",
     "text": [
      "El valor es 10\n"
     ]
    }
   ],
   "source": [
    "a = 10\n",
    "print(f'El valor de a es {a}')"
   ]
  },
  {
   "cell_type": "markdown",
   "metadata": {},
   "source": [
    "También puede usar f-strings con matemáticas. Las llaves pueden encerrar cualquier expresión de Python válida para imprimir."
   ]
  },
  {
   "cell_type": "code",
   "execution_count": 10,
   "metadata": {},
   "outputs": [
    {
     "name": "stdout",
     "output_type": "stream",
     "text": [
      "El valor de a más 5 es 15\n"
     ]
    }
   ],
   "source": [
    "a = 10\n",
    "print(f'El valor de a más 5 es {a+5}')"
   ]
  },
  {
   "cell_type": "markdown",
   "metadata": {},
   "source": [
    "Python tiene muchas formas de imprimir números; todos estos son correctos. Sin embargo, para este curso, usaremos f-strings."
   ]
  },
  {
   "cell_type": "code",
   "execution_count": 11,
   "metadata": {},
   "outputs": [
    {
     "name": "stdout",
     "output_type": "stream",
     "text": [
      "a es 5\n",
      "a es 5\n",
      "a es 5\n",
      "a es 5\n"
     ]
    }
   ],
   "source": [
    "a = 5\n",
    "\n",
    "print(f'a es {a}') # Método preferido.\n",
    "print('a es {}'.format(a))\n",
    "print('a es ' + str(a))\n",
    "print('a es %d' % (a))"
   ]
  },
  {
   "cell_type": "markdown",
   "metadata": {},
   "source": [
    "Puede usar sentencias if para realizar la lógica. ¿Notas las sangrías? Estas declaraciones if son cómo Python define bloques de código para ejecutar juntos. Un bloque generalmente comienza después de dos puntos e incluye cualquier línea en el mismo nivel de sangría. A diferencia de muchos otros lenguajes de programación, Python usa espacios en blanco para definir bloques de código. El hecho de que los espacios en blanco sean significativos para el significado del código del programa es una fuente frecuente de molestia para los nuevos programadores de Python. Las tabulaciones y los espacios se usan para definir el alcance en un programa de Python. No se recomienda mezclar espacios y tabulaciones en el mismo programa."
   ]
  },
  {
   "cell_type": "code",
   "execution_count": 12,
   "metadata": {},
   "outputs": [
    {
     "name": "stdout",
     "output_type": "stream",
     "text": [
      "La variable a no es más grande que 5\n"
     ]
    }
   ],
   "source": [
    "a = 5\n",
    "if a>5:\n",
    "    print('La variable a es más grande que 5.')\n",
    "else:\n",
    "    print('La variable a no es más grande que 5')"
   ]
  },
  {
   "cell_type": "markdown",
   "metadata": {},
   "source": [
    "La siguiente sentencia if tiene múltiples niveles. Puede ser fácil tabular estos niveles incorrectamente, así que tenga cuidado. Este código contiene una declaración if anidada debajo de la primera declaración if \"a==5\". Solo si a es igual a 5 se ejecutará la instrucción if anidada \"b==6\". Además, no es que el comando \"elif\" signifique \"else if\"."
   ]
  },
  {
   "cell_type": "code",
   "execution_count": 13,
   "metadata": {},
   "outputs": [
    {
     "name": "stdout",
     "output_type": "stream",
     "text": [
      "La variable a es 5\n",
      "La variable b es 6\n"
     ]
    }
   ],
   "source": [
    "a = 5\n",
    "b = 6\n",
    "\n",
    "if a==5:\n",
    "    print('La variable a es 5')\n",
    "    if b==6:\n",
    "        print('La variable b es 6')\n",
    "elif a==6:\n",
    "    print('La variable a es 6')\n",
    "    "
   ]
  },
  {
   "cell_type": "markdown",
   "metadata": {},
   "source": [
    "También es importante tener en cuenta que el operador doble igual (**\"==\"**) se usa para probar la igualdad de dos expresiones. El operador igual único (**\"=\"**) solo se usa para asignar valores a las variables en Python. Mayor que (**\">\"**), menor que (**\"<\"**), mayor o igual que (**\">=\"**), menor o igual que (**\"<=\"**) funcionan como generalmente se acepta. La desigualdad se realiza con el operador no igual (**\"!=\"**).\n",
    "\n",
    "Es común en los lenguajes de programación recorrer un rango de números. Python logra esto mediante el uso de la operación **range**. Aquí puede ver un ciclo **for** y una operación de **range** que hace que el programa realice un ciclo entre 1 y 9."
   ]
  },
  {
   "cell_type": "code",
   "execution_count": 14,
   "metadata": {},
   "outputs": [
    {
     "name": "stdout",
     "output_type": "stream",
     "text": [
      "1\n",
      "2\n",
      "3\n",
      "4\n",
      "5\n",
      "6\n",
      "7\n",
      "8\n",
      "9\n"
     ]
    }
   ],
   "source": [
    "for x in range(1, 10): # la función range no incluye el valor máximo que le introducimos.\n",
    "    print(x)  \n"
   ]
  },
  {
   "cell_type": "markdown",
   "metadata": {},
   "source": [
    "El siguiente código es otro ejemplo"
   ]
  },
  {
   "cell_type": "code",
   "execution_count": 15,
   "metadata": {},
   "outputs": [
    {
     "name": "stdout",
     "output_type": "stream",
     "text": [
      "Añadimos 1, la suma hasta ahora es 1\n",
      "Añadimos 2, la suma hasta ahora es 3\n",
      "Añadimos 3, la suma hasta ahora es 6\n",
      "Añadimos 4, la suma hasta ahora es 10\n",
      "Añadimos 5, la suma hasta ahora es 15\n",
      "Añadimos 6, la suma hasta ahora es 21\n",
      "Añadimos 7, la suma hasta ahora es 28\n",
      "Añadimos 8, la suma hasta ahora es 36\n",
      "Añadimos 9, la suma hasta ahora es 45\n",
      "Suma final: 45\n"
     ]
    }
   ],
   "source": [
    "acc = 0\n",
    "for x in range(1, 10):\n",
    "    acc += x\n",
    "    print(f\"Añadimos {x}, la suma hasta ahora es {acc}\")\n",
    "\n",
    "print(f\"Suma final: {acc}\")"
   ]
  }
 ],
 "metadata": {
  "anaconda-cloud": {},
  "interpreter": {
   "hash": "129c28eb7371f81f3b772b69408a02d1e141a0d5c957c78df09fa0d1b2bc4f41"
  },
  "kernelspec": {
   "display_name": "Python 3.9 (tensorflow)",
   "language": "python",
   "name": "python3"
  },
  "language_info": {
   "codemirror_mode": {
    "name": "ipython",
    "version": 3
   },
   "file_extension": ".py",
   "mimetype": "text/x-python",
   "name": "python",
   "nbconvert_exporter": "python",
   "pygments_lexer": "ipython3",
   "version": "3.7.4"
  }
 },
 "nbformat": 4,
 "nbformat_minor": 4
}
