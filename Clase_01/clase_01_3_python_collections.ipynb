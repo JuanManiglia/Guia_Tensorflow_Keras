{
 "cells": [
  {
   "cell_type": "markdown",
   "metadata": {},
   "source": [
    "**Modulo 1: Python**\n",
    "* Instructor: [Juan Maniglia](https://juanmaniglia.github.io)"
   ]
  },
  {
   "cell_type": "markdown",
   "metadata": {},
   "source": [
    "# Parte 1.3: Python Listas, Diccionarios, Sets y JSON\n",
    "\n",
    "Como la mayoría de los lenguajes de programación modernos, Python incluye listas, conjuntos, diccionarios y otras estructuras de datos como tipos incorporados. La apariencia de sintaxis de ambos es similar a JSON. La compatibilidad con Python y JSON se analiza más adelante en este módulo. Este curso se centrará principalmente en listas, conjuntos y diccionarios.\n",
    "\n",
    "* **Diccionario** - Un diccionario es una colección desordenada mutable que Python indexa con pares de clave y valor.\n",
    "* **Lista** - Una lista es una colección ordenada mutable que permite elementos duplicados.\n",
    "* **Set** - Un set es una colección desordenada mutable sin elementos duplicados.\n",
    "* **Tupla** - Una tupla es una colección ordenada inmutable que permite elementos duplicados.\n",
    "\n",
    "### Listas y Tuplas\n",
    "\n",
    "Para un programa de Python, las listas y las tuplas son muy similares. Es posible arreglárselas como programador usando solo listas e ignorando tuplas. Tanto las listas como las tuplas contienen una colección ordenada de elementos.\n",
    "\n",
    "La principal diferencia que verá sintácticamente es que una lista está encerrada entre llaves [] y una tupla está encerrada entre paréntesis ()."
   ]
  },
  {
   "cell_type": "code",
   "execution_count": 1,
   "metadata": {},
   "outputs": [
    {
     "name": "stdout",
     "output_type": "stream",
     "text": [
      "['a', 'b', 'c', 'd']\n",
      "('a', 'b', 'c', 'd')\n"
     ]
    }
   ],
   "source": [
    "l = ['a', 'b', 'c', 'd']\n",
    "t = ('a', 'b', 'c', 'd')\n",
    "\n",
    "print(l)\n",
    "print(t)"
   ]
  },
  {
   "cell_type": "markdown",
   "metadata": {},
   "source": [
    "La principal diferencia que verá programáticamente es que una lista es mutable, lo que significa que el programa puede cambiarla. Una tupla es inmutable, lo que significa que el programa no puede cambiarla."
   ]
  },
  {
   "cell_type": "code",
   "execution_count": 2,
   "metadata": {},
   "outputs": [
    {
     "name": "stdout",
     "output_type": "stream",
     "text": [
      "['a', 'Cambiado', 'c', 'd']\n"
     ]
    }
   ],
   "source": [
    "l[1] = 'Cambiado'\n",
    "#t[1] = 'Cambiado' # Esto daría como resultado un error.\n",
    "\n",
    "print(l)"
   ]
  },
  {
   "cell_type": "markdown",
   "metadata": {},
   "source": [
    "Como muchos lenguajes, Python tiene una declaración for-each. Esta declaración le permite recorrer cada elemento de una colección, como una lista o una tupla."
   ]
  },
  {
   "cell_type": "code",
   "execution_count": 3,
   "metadata": {},
   "outputs": [
    {
     "name": "stdout",
     "output_type": "stream",
     "text": [
      "a\n",
      "Cambiado\n",
      "c\n",
      "d\n"
     ]
    }
   ],
   "source": [
    "# Iterar sobre una colección.\n",
    "for s in l:\n",
    "    print(s)"
   ]
  },
  {
   "cell_type": "markdown",
   "metadata": {},
   "source": [
    "La función **enumerate** es útil para enumerar sobre una colección y tener acceso al índice del elemento en el que nos encontramos actualmente."
   ]
  },
  {
   "cell_type": "code",
   "execution_count": 4,
   "metadata": {},
   "outputs": [
    {
     "name": "stdout",
     "output_type": "stream",
     "text": [
      "0:a\n",
      "1:Cambiado\n",
      "2:c\n",
      "3:d\n"
     ]
    }
   ],
   "source": [
    "# Itere sobre una colección y sepa dónde está su índice. (¡Python comienza en cero!)\n",
    "for i,l in enumerate(l):\n",
    "    print(f\"{i}:{l}\")"
   ]
  },
  {
   "cell_type": "markdown",
   "metadata": {},
   "source": [
    "Una **list** puede tener varios objetos agregados, como cadenas. Se permiten valores duplicados. **Tuples** no permiten que el programa agregue objetos adicionales después de la definición."
   ]
  },
  {
   "cell_type": "code",
   "execution_count": 5,
   "metadata": {},
   "outputs": [
    {
     "name": "stdout",
     "output_type": "stream",
     "text": [
      "['a', 'b', 'c', 'c']\n"
     ]
    }
   ],
   "source": [
    "# Agregue artículos manualmente, las listas permiten duplicados\n",
    "c = []\n",
    "c.append('a')\n",
    "c.append('b')\n",
    "c.append('c')\n",
    "c.append('c')\n",
    "print(c)"
   ]
  },
  {
   "cell_type": "markdown",
   "metadata": {},
   "source": [
    "Las colecciones ordenadas, como listas y tuplas, le permiten acceder a un elemento por su número de índice, como se hace en el siguiente código. Las colecciones desordenadas, como diccionarios y conjuntos, no permiten que el programa acceda a ellas de esta manera."
   ]
  },
  {
   "cell_type": "code",
   "execution_count": 6,
   "metadata": {},
   "outputs": [
    {
     "name": "stdout",
     "output_type": "stream",
     "text": [
      "b\n"
     ]
    }
   ],
   "source": [
    "print(c[1])"
   ]
  },
  {
   "cell_type": "markdown",
   "metadata": {},
   "source": [
    "Una **list** puede tener varios objetos agregados, como cadenas. Se permiten valores duplicados. Las tuplas no permiten que el programa agregue objetos adicionales después de la definición. Para la función de inserción, un índice, el programador debe especificar un índice. Estas operaciones no están permitidas para tuplas porque darían como resultado un cambio."
   ]
  },
  {
   "cell_type": "code",
   "execution_count": 7,
   "metadata": {},
   "outputs": [
    {
     "name": "stdout",
     "output_type": "stream",
     "text": [
      "['a0', 'a', 'b', 'c']\n",
      "['a0', 'a', 'c']\n",
      "['a', 'c']\n"
     ]
    }
   ],
   "source": [
    "# Insertar\n",
    "c = ['a', 'b', 'c']\n",
    "c.insert(0, 'a0')\n",
    "print(c)\n",
    "# Remover\n",
    "c.remove('b')\n",
    "print(c)\n",
    "# Remover por el index\n",
    "del c[0]\n",
    "print(c)"
   ]
  },
  {
   "cell_type": "markdown",
   "metadata": {},
   "source": [
    "### Sets\n",
    "Un **set** de Python contiene una colección desordenada de objetos, pero los conjuntos **no** permiten duplicados. Si un programa agrega un elemento duplicado a un conjunto, solo queda una copia de cada elemento en la colección. Agregar un elemento duplicado a un conjunto no genera un error."
   ]
  },
  {
   "cell_type": "code",
   "execution_count": 8,
   "metadata": {},
   "outputs": [
    {
     "name": "stdout",
     "output_type": "stream",
     "text": [
      "{'b', 'a', 'c'}\n"
     ]
    }
   ],
   "source": [
    "s = set()\n",
    "s = { 'a', 'b', 'c'}\n",
    "s = set(['a', 'b', 'c'])\n",
    "print(s)"
   ]
  },
  {
   "cell_type": "markdown",
   "metadata": {},
   "source": [
    "Una **list** siempre se encierra entre llaves [], una **tuple** entre paréntesis () y, de manera similar, un **ser** se encierra entre llaves. Los programas pueden agregar elementos a un **set** a medida que se ejecutan. Los programas pueden agregar dinámicamente elementos a un **set** con la función **add**. Es importante tener en cuenta que la función **append** agrega elementos a las listas, mientras que la función **add** agrega elementos a un **set**."
   ]
  },
  {
   "cell_type": "code",
   "execution_count": 9,
   "metadata": {},
   "outputs": [
    {
     "name": "stdout",
     "output_type": "stream",
     "text": [
      "{'b', 'a', 'c'}\n"
     ]
    }
   ],
   "source": [
    "# Agregue artículos manualmente, los conjuntos no permiten duplicados.\n",
    "# Sets add, lists append.\n",
    "c = set()\n",
    "c.add('a')\n",
    "c.add('b')\n",
    "c.add('c')\n",
    "c.add('c')\n",
    "print(c)"
   ]
  },
  {
   "cell_type": "markdown",
   "metadata": {},
   "source": [
    "### Diccionairo\n",
    "\n",
    "Python proporciona un diccionario, que es esencialmente una colección de pares de nombre y valor. Los programas definen diccionarios usando llaves."
   ]
  },
  {
   "cell_type": "code",
   "execution_count": 10,
   "metadata": {},
   "outputs": [
    {
     "name": "stdout",
     "output_type": "stream",
     "text": [
      "{'nombre': 'Juan', 'direccion': 'Recoletos 15'}\n",
      "Juan\n",
      "Nombre es definido\n",
      "Edad no definida\n"
     ]
    }
   ],
   "source": [
    "d = {'nombre': \"Juan\", 'direccion':\"Recoletos 15\"}\n",
    "print(d)\n",
    "print(d['nombre'])\n",
    "\n",
    "if 'nombre' in d:\n",
    "    print(\"Nombre es definido\")\n",
    "\n",
    "if 'edad' in d:\n",
    "    print(\"Edad definida\")\n",
    "else:\n",
    "    print(\"Edad no definida\")"
   ]
  },
  {
   "cell_type": "markdown",
   "metadata": {},
   "source": [
    "Tenga cuidado de no intentar acceder a una clave no definida, ya que esto resultará en un error. Puede verificar si una clave está definida, como se demostró anteriormente. También puede acceder al directorio y proporcionar un valor predeterminado."
   ]
  },
  {
   "cell_type": "code",
   "execution_count": 11,
   "metadata": {},
   "outputs": [
    {
     "data": {
      "text/plain": [
       "'por defecto'"
      ]
     },
     "execution_count": 11,
     "metadata": {},
     "output_type": "execute_result"
    }
   ],
   "source": [
    "d.get('clave_desconocida', 'por defecto')"
   ]
  },
  {
   "cell_type": "markdown",
   "metadata": {},
   "source": [
    "También puede acceder a las claves y valores individuales de un diccionario."
   ]
  },
  {
   "cell_type": "code",
   "execution_count": 12,
   "metadata": {},
   "outputs": [
    {
     "name": "stdout",
     "output_type": "stream",
     "text": [
      "Clave: dict_keys(['name', 'address'])\n",
      "Valores: dict_values(['Juan', 'Recoletos 15'])\n"
     ]
    }
   ],
   "source": [
    "d = {'name': \"Juan\", 'address':\"Recoletos 15\"}\n",
    "# Todos las claves de diccionario\n",
    "print(f\"Clave: {d.keys()}\")\n",
    "\n",
    "# All of the values\n",
    "print(f\"Valores: {d.values()}\")"
   ]
  },
  {
   "cell_type": "markdown",
   "metadata": {},
   "source": [
    "El siguiente código muestra un uso híbrido de diccionarios y listas."
   ]
  },
  {
   "cell_type": "code",
   "execution_count": 14,
   "metadata": {},
   "outputs": [
    {
     "name": "stdout",
     "output_type": "stream",
     "text": [
      "[{'nombre': 'Juan', 'mascotas': ['Lius', 'Draco', 'Kira']}, {'nombre': 'Carlos Lopez', 'mascotas': ['Pepe']}, {'nombre': 'Vanessa'}]\n",
      "------------------------------------\n",
      "Juan:['Lius', 'Draco', 'Kira']\n",
      "Carlos Lopez:['Pepe']\n",
      "Vanessa:no mascotas\n"
     ]
    }
   ],
   "source": [
    "clientes = [\n",
    "    {\"nombre\": \"Juan\", \"mascotas\": [\"Lius\", \"Draco\", \n",
    "        \"Kira\"]},\n",
    "    {\"nombre\": \"Carlos Lopez\", \"mascotas\": [\"Pepe\"]},\n",
    "    {\"nombre\": \"Vanessa\"}\n",
    "]\n",
    "\n",
    "print(clientes)\n",
    "print('------------------------------------')\n",
    "\n",
    "for customer in clientes:\n",
    "    print(f\"{customer['nombre']}:{customer.get('mascotas', 'no mascotas')}\")"
   ]
  },
  {
   "cell_type": "markdown",
   "metadata": {},
   "source": [
    "La variable **clientes** es una lista que contiene tres diccionarios que representan a los clientes. Puede pensar en estos diccionarios como registros en una tabla. Los campos de estos registros individuales son las claves del diccionario. Aquí las claves **nombre** y **mascotas** son campos. Sin embargo, el campo **mascotas** contiene una lista de nombres de mascotas. No hay límite en la profundidad que puede elegir para anidar listas y mapas."
   ]
  },
  {
   "cell_type": "markdown",
   "metadata": {},
   "source": [
    "## Listas Avanzadas\n",
    "\n",
    "Varias funciones avanzadas están disponibles para las listas que se presentan en esta sección. Una de esas funciones es **zip**. Se pueden combinar dos listas en una sola lista con el comando **zip**."
   ]
  },
  {
   "cell_type": "code",
   "execution_count": 15,
   "metadata": {},
   "outputs": [
    {
     "name": "stdout",
     "output_type": "stream",
     "text": [
      "<zip object at 0x00000288D35D01C8>\n"
     ]
    }
   ],
   "source": [
    "a = [1,2,3,4,5]\n",
    "b = [5,4,3,2,1]\n",
    "\n",
    "print(zip(a,b))"
   ]
  },
  {
   "cell_type": "markdown",
   "metadata": {},
   "source": [
    "Para ver los resultados de la función **zip**, convertimos el objeto zip devuelto en una lista. Como puede ver, la función **zip** devuelve una lista de tuplas. Cada tupla representa un par de elementos que la función comprimió."
   ]
  },
  {
   "cell_type": "code",
   "execution_count": 16,
   "metadata": {},
   "outputs": [
    {
     "name": "stdout",
     "output_type": "stream",
     "text": [
      "[(1, 5), (2, 4), (3, 3), (4, 2), (5, 1)]\n"
     ]
    }
   ],
   "source": [
    "a = [1,2,3,4,5]\n",
    "b = [5,4,3,2,1]\n",
    "\n",
    "print(list(zip(a,b)))"
   ]
  },
  {
   "cell_type": "markdown",
   "metadata": {},
   "source": [
    "El método habitual para usar el comando zip está dentro de un bucle for. El siguiente código muestra cómo un bucle for puede asignar una variable a cada colección que el programa está iterando."
   ]
  },
  {
   "cell_type": "code",
   "execution_count": 17,
   "metadata": {},
   "outputs": [
    {
     "name": "stdout",
     "output_type": "stream",
     "text": [
      "1 - 5\n",
      "2 - 4\n",
      "3 - 3\n",
      "4 - 2\n",
      "5 - 1\n"
     ]
    }
   ],
   "source": [
    "a = [1,2,3,4,5]\n",
    "b = [5,4,3,2,1]\n",
    "\n",
    "for x,y in zip(a,b):\n",
    "    print(f'{x} - {y}')"
   ]
  },
  {
   "cell_type": "markdown",
   "metadata": {},
   "source": [
    "\n",
    "Por lo general, ambas colecciones tendrán la misma longitud cuando se pasen al comando zip. No es un error tener colecciones de diferentes longitudes. Como ilustra el siguiente código, el comando zip solo procesará elementos hasta la longitud de la colección más pequeña."
   ]
  },
  {
   "cell_type": "code",
   "execution_count": 18,
   "metadata": {},
   "outputs": [
    {
     "name": "stdout",
     "output_type": "stream",
     "text": [
      "[(1, 5), (2, 4), (3, 3)]\n"
     ]
    }
   ],
   "source": [
    "a = [1,2,3,4,5]\n",
    "b = [5,4,3]\n",
    "\n",
    "print(list(zip(a,b)))"
   ]
  },
  {
   "cell_type": "markdown",
   "metadata": {},
   "source": [
    "Tambien se puede aplicar una función a todos los elementos de una lista"
   ]
  },
  {
   "cell_type": "code",
   "execution_count": 19,
   "metadata": {},
   "outputs": [
    {
     "name": "stdout",
     "output_type": "stream",
     "text": [
      "[0, 10, 20, 30, 40, 50, 60, 70, 80, 90]\n"
     ]
    }
   ],
   "source": [
    "lst=[0,1,2,3,4,5,6,7,8,9]\n",
    "lst = [x*10 for x in range(10)]\n",
    "print(lst)"
   ]
  },
  {
   "cell_type": "markdown",
   "metadata": {},
   "source": [
    "Un diccionario también puede ser una comprensión. El formato general para esto es: \n",
    "\n",
    "```\n",
    "dict_variable = {clave:valor para (clave,valor) en diccionario.items()}\n",
    "```\n",
    "\n",
    "Un uso común para esto es construir un índice para nombres de columnas simbólicas."
   ]
  },
  {
   "cell_type": "code",
   "execution_count": 20,
   "metadata": {},
   "outputs": [
    {
     "name": "stdout",
     "output_type": "stream",
     "text": [
      "{'col-cero': 0, 'col-uno': 1, 'col-dos': 2, 'col-tres': 3}\n"
     ]
    }
   ],
   "source": [
    "texto = ['col-cero','col-uno', 'col-dos', 'col-tres']\n",
    "buscar = {clave:valor for (valor,clave) in enumerate(texto)}\n",
    "print(buscar)"
   ]
  },
  {
   "cell_type": "markdown",
   "metadata": {},
   "source": [
    "Esto se puede usar para encontrar fácilmente el índice de una columna por nombre."
   ]
  },
  {
   "cell_type": "code",
   "execution_count": 21,
   "metadata": {},
   "outputs": [
    {
     "name": "stdout",
     "output_type": "stream",
     "text": [
      "El índece de \"col-dos\" es 2\n"
     ]
    }
   ],
   "source": [
    "print(f'El índece de \"col-dos\" es {buscar[\"col-dos\"]}')"
   ]
  },
  {
   "cell_type": "markdown",
   "metadata": {},
   "source": [
    "### JSON\n",
    "\n",
    "Los datos almacenados en un archivo CSV deben ser planos; es decir, debe caber en filas y columnas. La mayoría de las personas se refieren a este tipo de datos como estructurados o tabulares. Estos datos son tabulares porque el número de columnas es el mismo para cada fila. Puede que a las filas individuales les falte un valor para una columna; sin embargo, estas filas todavía tienen las mismas columnas.  \n",
    "\n",
    "Este tipo de datos es conveniente para el aprendizaje automático porque la mayoría de los modelos, como las redes neuronales, también esperan que los datos entrantes tengan dimensiones fijas. La información del mundo real no siempre es tan tabular. Considere si las filas representan clientes. Estas personas pueden tener varios números de teléfono y direcciones. ¿Cómo describiría esos datos utilizando un número fijo de columnas? Sería útil tener una lista de estos cursos en cada fila que puede ser de una duración variable para cada fila o estudiante.\n",
    "\n",
    "La notación de objetos de JavaScript (JSON) es un formato de archivo estándar que almacena datos en un formato jerárquico similar al lenguaje de marcado extensible (XML). JSON no es más que una jerarquía de listas y diccionarios. Los programadores se refieren a este tipo de datos como datos semiestructurados o datos jerárquicos. El siguiente es un archivo JSON de muestra.\n",
    "\n",
    "```\n",
    "{\n",
    "  \"Nombre\": \"Juan\",\n",
    "  \"Apellido\": \"Maniglia\",\n",
    "  \"Vivo\": verdadero,\n",
    "  \"Edad\": 32,\n",
    "  \"Direccion\": {\n",
    "    \"Calle\": \"Recoletos 15\",\n",
    "    \"Ciudad\": \"Madrid\",\n",
    "    \"Comunidad\": \"Madrid\",\n",
    "    \"CodigoPostal\": \"28004\"\n",
    "  },\n",
    "  \"Telefono\": [\n",
    "    {\n",
    "      \"tipo\": \"casa\",\n",
    "      \"número\": \"910 555-1234\"\n",
    "    },\n",
    "    {\n",
    "      \"tipo\": \"oficina\",\n",
    "      \"número\": \"910 555-4567\"\n",
    "    },\n",
    "    {\n",
    "      \"tipo\": \"móvil\",\n",
    "      \"número\": \"665 469-521\"\n",
    "    }\n",
    "  ],\n",
    "  \"hijos\": [],\n",
    "  \"Esposa\": \"Vanessa\"\n",
    "}\n",
    "```\n",
    "\n",
    "El archivo anterior puede parecerse al código de Python. Puede ver llaves que definen diccionarios y corchetes que definen listas. JSON requiere que haya un solo elemento raíz. Una lista o diccionario puede cumplir este papel. JSON requiere comillas dobles para encerrar cadenas y nombres. Las comillas simples no están permitidas en JSON.\n",
    "\n",
    "Los archivos JSON son siempre una sintaxis legal de JavaScript. JSON también es generalmente válido como código de Python, como se demuestra a continuación."
   ]
  },
  {
   "cell_type": "code",
   "execution_count": 23,
   "metadata": {},
   "outputs": [],
   "source": [
    "jsonHardCoded = {\n",
    "  \"Nombre\": \"Juan\",\n",
    "  \"Apellido\": \"Maniglia\",\n",
    "  \"Vivo\": True,\n",
    "  \"Edad\": 32,\n",
    "  \"Direccion\": {\n",
    "    \"Calle\": \"Recoletos 15\",\n",
    "    \"Ciudad\": \"Madrid\",\n",
    "    \"Comunidad\": \"Madrid\",\n",
    "    \"CodigoPostal\": \"28004\"\n",
    "  },\n",
    "  \"Telefono\": [\n",
    "    {\n",
    "      \"tipo\": \"casa\",\n",
    "      \"número\": \"910 555-1234\"\n",
    "    },\n",
    "    {\n",
    "      \"tipo\": \"oficina\",\n",
    "      \"número\": \"910 555-4567\"\n",
    "    },\n",
    "    {\n",
    "      \"tipo\": \"móvil\",\n",
    "      \"número\": \"665 469-521\"\n",
    "    }\n",
    "  ],\n",
    "  \"hijos\": [],\n",
    "  \"Esposa\": \"Vanessa\"\n",
    "}"
   ]
  },
  {
   "cell_type": "markdown",
   "metadata": {},
   "source": [
    "En general, es mejor leer JSON desde archivos, cadenas o Internet que codificar, como se demuestra aquí. Sin embargo, para estructuras de datos internas, a veces puede resultar útil dicha codificación.\n",
    "\n",
    "\n",
    "Python tiene soporte para JSON. Cuando un programa de Python carga un JSON, se devuelve la lista raíz o el diccionario, como se demuestra en el siguiente código."
   ]
  },
  {
   "cell_type": "code",
   "execution_count": 22,
   "metadata": {},
   "outputs": [
    {
     "name": "stdout",
     "output_type": "stream",
     "text": [
      "Nombre: Juan\n",
      "Apellido: Maniglia\n"
     ]
    }
   ],
   "source": [
    "import json\n",
    "\n",
    "json_string = '{\"nombre\":\"Juan\",\"apellido\":\"Maniglia\"}'\n",
    "obj = json.loads(json_string)\n",
    "print(f\"Nombre: {obj['nombre']}\")\n",
    "print(f\"Apellido: {obj['apellido']}\")"
   ]
  }
 ],
 "metadata": {
  "anaconda-cloud": {},
  "interpreter": {
   "hash": "129c28eb7371f81f3b772b69408a02d1e141a0d5c957c78df09fa0d1b2bc4f41"
  },
  "kernelspec": {
   "display_name": "Python 3.9 (tensorflow)",
   "language": "python",
   "name": "python3"
  },
  "language_info": {
   "codemirror_mode": {
    "name": "ipython",
    "version": 3
   },
   "file_extension": ".py",
   "mimetype": "text/x-python",
   "name": "python",
   "nbconvert_exporter": "python",
   "pygments_lexer": "ipython3",
   "version": "3.7.4"
  }
 },
 "nbformat": 4,
 "nbformat_minor": 4
}
